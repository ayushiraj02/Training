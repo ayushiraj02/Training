{
  "nbformat": 4,
  "nbformat_minor": 0,
  "metadata": {
    "colab": {
      "provenance": [],
      "collapsed_sections": [
        "3Hv-3Vx4IVD7",
        "6vPrJ0V-QF71",
        "aPc9L0IdRnjR",
        "F8mza5v9GIiR",
        "B3di4_gkVzhp",
        "HdxcBzrsdXvX",
        "xb1EUwNxyKbT",
        "g27RRcW5yRVm",
        "EHBirW1biHo0"
      ],
      "toc_visible": true
    },
    "kernelspec": {
      "name": "python3",
      "display_name": "Python 3"
    },
    "language_info": {
      "name": "python"
    }
  },
  "cells": [
    {
      "cell_type": "markdown",
      "source": [
        "# Function used"
      ],
      "metadata": {
        "id": "3Hv-3Vx4IVD7"
      }
    },
    {
      "cell_type": "code",
      "source": [
        "import numpy as np\n",
        "import plotly.graph_objects as go\n",
        "from scipy.stats import f\n",
        "\n",
        "def calculate_anova_parameters(y, y_pred, num_features):\n",
        "    n = len(y)\n",
        "    p = num_features  # Number of features in the model\n",
        "\n",
        "    # Calculate sum of squares\n",
        "    y_mean = np.mean(y)\n",
        "    sum_sq_total = np.sum((y - y_mean) ** 2)\n",
        "    sum_sq_model = np.sum((y_pred - y_mean) ** 2)\n",
        "    sum_sq_res = np.sum((y - y_pred) ** 2)\n",
        "\n",
        "    return p, n, sum_sq_model, sum_sq_res, sum_sq_total\n",
        "\n",
        "def create_anova_table(y, y_pred, num_features):\n",
        "    p, n, sum_sq_model, sum_sq_res, sum_sq_total = calculate_anova_parameters(y, y_pred, num_features)\n",
        "\n",
        "    df_model = p\n",
        "    df_residual = n - p - 1\n",
        "    df_total = n - 1\n",
        "\n",
        "    mean_sq_model = sum_sq_model / df_model\n",
        "    mean_sq_res = sum_sq_res / df_residual\n",
        "\n",
        "    f_value = mean_sq_model / mean_sq_res\n",
        "    p_value_model = 1 - f.cdf(f_value, df_model, df_residual)\n",
        "    r_squared_model = sum_sq_model / sum_sq_total\n",
        "\n",
        "    # Create data for the table\n",
        "    header = [\"Source\", \"df\", \"sum_sq\", \"mean_sq\", \"F\", \"PR(>F)\"]\n",
        "    cells = [\n",
        "        [\"Model\", df_model, sum_sq_model, mean_sq_model, f_value, p_value_model],\n",
        "        [\"Residual\", df_residual, sum_sq_res, mean_sq_res, None, None],\n",
        "        [\"Total\", df_total, sum_sq_total, None, None, None]\n",
        "    ]\n",
        "    # Create the table\n",
        "    table = go.Figure(data=[go.Table(header=dict(values=header),\n",
        "                                     cells=dict(values=list(zip(*cells))))])\n",
        "    table.update_layout(title=\"ANOVA Table\")\n",
        "    return table\n",
        "\n",
        "# # Example usage\n",
        "# # Sample data\n",
        "# y = np.array([10, 12, 14, 16, 18])\n",
        "# y_pred = np.array([9, 11, 14, 15, 19])  # Example predicted values\n",
        "# num_features = 2  # Assuming 2 features in the model\n",
        "\n",
        "# # Create ANOVA table using Plotly\n",
        "# anova_table = create_anova_table(y, y_pred, num_features)\n",
        "# # Display the table\n",
        "# anova_table.show()\n"
      ],
      "metadata": {
        "id": "8a_NxDlnIYGy"
      },
      "execution_count": null,
      "outputs": []
    },
    {
      "cell_type": "markdown",
      "source": [
        "hypothesis of coefficients"
      ],
      "metadata": {
        "id": "HNhiorwTGXYE"
      }
    },
    {
      "cell_type": "code",
      "source": [
        "from scipy.stats import t\n",
        "\n",
        "def hypothesis_testing_regression(x, y, num_predictors,coef, res_square):\n",
        "    n = len(x)\n",
        "\n",
        "    # Step 1: State the Null Hypothesis and Alternative Hypothesis\n",
        "    print(\"1. Step 1\")\n",
        "    print(\"Null Hypothesis: βi = 0 (No effect on dependent variable) for all i\")\n",
        "    print(\"Alternative Hypothesis: At least one βi ≠ 0\")\n",
        "\n",
        "    # Step 2: Set α\n",
        "    print(\"2. Step 2\")\n",
        "    alpha = 0.05\n",
        "    print(\"Alpha =\", alpha)\n",
        "\n",
        "    # Step 3: Collect Data\n",
        "    print(\"3. Step 3: Data Collection\")\n",
        "    sum_of_residual_sq = np.sum(res_square)\n",
        "    print(\"Sum of Squared Residuals =\", sum_of_residual_sq)\n",
        "\n",
        "    df_residual = n - num_predictors - 1\n",
        "    Mse = sum_of_residual_sq / df_residual\n",
        "    print(\"Mean Squared Error (MSE) =\", Mse)\n",
        "    print(\"Root Mean Squared Error (RMSE) =\", np.sqrt(Mse))\n",
        "\n",
        "    # Step 4: Calculate test statistics for each coefficient\n",
        "    print(\"4. Step 4\")\n",
        "    for i in range(num_predictors):\n",
        "        Sbi = np.sqrt(Mse) / np.sqrt(np.sum((x[:, i] - np.mean(x[:, i]))**2))\n",
        "        t_statistic = coef / Sbi\n",
        "        print(f\"t-statistic for coefficient {i+1}: {t_statistic}\")\n",
        "\n",
        "        # Step 5: Construct Acceptance / Rejection regions\n",
        "        # Degrees of freedom\n",
        "        df = df_residual\n",
        "\n",
        "        # Calculate p-value\n",
        "        p_value = 2 * (1 - t.cdf(abs(t_statistic), df))\n",
        "        print(f\"p-value for coefficient {i+1}:\", p_value)\n",
        "\n",
        "        # Step 6: Based on steps 5 and 6, draw a conclusion about H0\n",
        "        if p_value < alpha:\n",
        "            print(f\"Reject the Null Hypothesis for coefficient {i+1}\")\n",
        "        else:\n",
        "            print(f\"Fail to reject Null Hypothesis for coefficient {i+1}\")\n",
        "\n",
        "# Example usage\n",
        "# x = Independent variables (matrix where each column represents a different variable)\n",
        "# y = Dependent variable\n",
        "# num_predictors = Number of predictors\n",
        "# res_square = Array of squared residuals\n",
        "\n",
        "#hypothesis_testing_regression(x, y, num_predictors,c res_square)\n",
        "# def hypothesis_testing_regression(data['ConstArea'], data['SalePrice'], 4, 62.5696 , results['Res_Sqr']):\n",
        "\n"
      ],
      "metadata": {
        "id": "hBr7gieFGW41"
      },
      "execution_count": null,
      "outputs": []
    },
    {
      "cell_type": "code",
      "source": [
        "def omnibus_test_regression(x, y, res_square, k):\n",
        "    n = len(x)\n",
        "\n",
        "    # Step 1: State the Null Hypothesis and Alternative Hypothesis\n",
        "    print(\"1. Step 1\")\n",
        "    print(\"Null Hypothesis :       β1 = β2 = ... = βk = 0 (No effect of independent variables on dependent variable)\")\n",
        "    print(\"Alternate Hypothesis :  At least one βi ≠ 0 (At least one independent variable has an effect)\")\n",
        "\n",
        "    # Step 2: Set α\n",
        "    print(\"2. Step 2\")\n",
        "    alpha = 0.05\n",
        "    print(\"Alpha =\", alpha)\n",
        "\n",
        "    # Step 3: Collect Data\n",
        "    print(\"3. Step 3: Data Collection\")\n",
        "    Sum_of_residual_sq = np.sum(res_square)\n",
        "    print(\"Sum of Squared Residuals =\", Sum_of_residual_sq)\n",
        "\n",
        "    mean = np.mean(x)\n",
        "    Mse = Sum_of_residual_sq / (n - k - 1)\n",
        "    print(\"Mean Squared Error (MSE) =\", Mse)\n",
        "    print(\"Root Mean Squared Error (RMSE) =\", np.sqrt(Mse))\n",
        "\n",
        "    s = (x - mean) ** 2\n",
        "    a = s.sum()\n",
        "    b = np.sqrt(a)\n",
        "\n",
        "    # Step 4: Calculate the F-statistic\n",
        "    print(\"4. Step 4\")\n",
        "    SSR = np.sum((y - np.mean(y)) ** 2) - Sum_of_residual_sq\n",
        "    MSR = SSR / k\n",
        "    F_statistic = MSR / Mse\n",
        "    print(\"The value of F-statistic =\", F_statistic)\n",
        "\n",
        "    # Step 5: Construct Acceptance / Rejection regions\n",
        "    print(\"5. Step 5\")\n",
        "    # Degrees of freedom\n",
        "    df1 = k\n",
        "    df2 = n - k - 1\n",
        "\n",
        "    # Calculate p-value\n",
        "    p_value = 1 - f.cdf(F_statistic, df1, df2)\n",
        "    print(\"p-value:\", p_value)\n",
        "\n",
        "    # Step 6: Based on steps 5 and 6, draw a conclusion about H0\n",
        "    print(\"6. Step 6\")\n",
        "    if p_value < alpha:\n",
        "        print(\"Reject the Null Hypothesis\")\n",
        "    else:\n",
        "        print(\"Fail to reject Null Hypothesis\")\n",
        "\n",
        "# # Example usage\n",
        "# x = np.array([20, 22, 24, 26, 28])  # Independent variable\n",
        "# y = np.array([10, 12, 14, 16, 18])   # Dependent variable\n",
        "# res_square = np.array([0.2, 0.3, 0.4, 0.5, 0.6])\n",
        "# k = 1  # Number of independent variables\n",
        "\n",
        "# omnibus_test_regression(x, y, res_square, k)\n"
      ],
      "metadata": {
        "id": "AFRYJsgodYsD"
      },
      "execution_count": null,
      "outputs": []
    },
    {
      "cell_type": "markdown",
      "source": [
        "# Data"
      ],
      "metadata": {
        "id": "6vPrJ0V-QF71"
      }
    },
    {
      "cell_type": "code",
      "execution_count": null,
      "metadata": {
        "id": "wecxOL-KNjrr"
      },
      "outputs": [],
      "source": [
        "import pandas as pd\n",
        "import numpy as np\n",
        "import seaborn as sns\n",
        "import matplotlib.pyplot as plt\n",
        "import plotly.express as px\n",
        "import statsmodels.api as sm\n",
        "from statsmodels.formula.api import ols\n",
        "import plotly.graph_objs as go\n",
        "from plotly.subplots import make_subplots\n",
        "from scipy.stats import t,f,normaltest\n",
        "from sklearn.linear_model import LinearRegression\n",
        "from sklearn.metrics import mean_squared_error,r2_score"
      ]
    },
    {
      "cell_type": "code",
      "source": [
        "df= pd.read_csv('/content/drive/MyDrive/Colab Notebooks/Ass_03/solution/20vardata.csv')\n"
      ],
      "metadata": {
        "id": "DH6TeN6DOINz"
      },
      "execution_count": null,
      "outputs": []
    },
    {
      "cell_type": "code",
      "source": [
        "from google.colab import drive\n",
        "drive.mount('/content/drive')"
      ],
      "metadata": {
        "colab": {
          "base_uri": "https://localhost:8080/"
        },
        "id": "awVi6l-Zep6W",
        "outputId": "cb41d93f-93b9-4b0a-846b-b01d5947bcd2"
      },
      "execution_count": null,
      "outputs": [
        {
          "output_type": "stream",
          "name": "stdout",
          "text": [
            "Drive already mounted at /content/drive; to attempt to forcibly remount, call drive.mount(\"/content/drive\", force_remount=True).\n"
          ]
        }
      ]
    },
    {
      "cell_type": "code",
      "source": [
        "df.columns"
      ],
      "metadata": {
        "colab": {
          "base_uri": "https://localhost:8080/"
        },
        "id": "uFjQMGY7Phg3",
        "outputId": "b7bc73c3-d02e-4ff0-b789-e2610de28ca3"
      },
      "execution_count": null,
      "outputs": [
        {
          "output_type": "execute_result",
          "data": {
            "text/plain": [
              "Index(['Zoning', 'LotArea', 'LotShape', 'LandContour', 'Neighborhood',\n",
              "       'BldgType', 'YearRemodel', 'ExterCond', 'Foundation', 'CentralAir',\n",
              "       'TotRmsAbvGrd', 'Fireplaces', 'GarageCars', 'TotalFullBath',\n",
              "       'TotalHalfBath', 'SaleCondition', 'HouseAge', 'ConstArea', 'QIndex',\n",
              "       'Price_sqft', 'log(SalePrice)', 'SalePrice'],\n",
              "      dtype='object')"
            ]
          },
          "metadata": {},
          "execution_count": 11
        }
      ]
    },
    {
      "cell_type": "code",
      "source": [
        "data = df.select_dtypes(include=['int','float','bool'])"
      ],
      "metadata": {
        "id": "CVsPjjH3PkjA"
      },
      "execution_count": null,
      "outputs": []
    },
    {
      "cell_type": "code",
      "source": [
        "data = data.astype(float)"
      ],
      "metadata": {
        "id": "FNDp62l0P2Sg"
      },
      "execution_count": null,
      "outputs": []
    },
    {
      "cell_type": "code",
      "source": [
        "data.dtypes"
      ],
      "metadata": {
        "colab": {
          "base_uri": "https://localhost:8080/"
        },
        "id": "QzDqkiW2P3FA",
        "outputId": "97de3042-f145-4b0a-bab3-8d289d1a7498"
      },
      "execution_count": null,
      "outputs": [
        {
          "output_type": "execute_result",
          "data": {
            "text/plain": [
              "LotArea           float64\n",
              "YearRemodel       float64\n",
              "TotRmsAbvGrd      float64\n",
              "Fireplaces        float64\n",
              "GarageCars        float64\n",
              "TotalFullBath     float64\n",
              "TotalHalfBath     float64\n",
              "HouseAge          float64\n",
              "ConstArea         float64\n",
              "QIndex            float64\n",
              "Price_sqft        float64\n",
              "log(SalePrice)    float64\n",
              "SalePrice         float64\n",
              "dtype: object"
            ]
          },
          "metadata": {},
          "execution_count": 14
        }
      ]
    },
    {
      "cell_type": "markdown",
      "source": [
        " # **Model 3**"
      ],
      "metadata": {
        "id": "aPc9L0IdRnjR"
      }
    },
    {
      "cell_type": "code",
      "source": [
        "data.corr()"
      ],
      "metadata": {
        "colab": {
          "base_uri": "https://localhost:8080/"
        },
        "id": "GnH9GXSxQphw",
        "outputId": "596c5b25-3ba4-4354-d621-d1dcfdba3731"
      },
      "execution_count": null,
      "outputs": [
        {
          "output_type": "execute_result",
          "data": {
            "text/plain": [
              "                 LotArea  YearRemodel  TotRmsAbvGrd  Fireplaces  GarageCars  \\\n",
              "LotArea         1.000000     0.044593      0.398022    0.304926    0.315229   \n",
              "YearRemodel     0.044593     1.000000      0.226496    0.093722    0.456093   \n",
              "TotRmsAbvGrd    0.398022     0.226496      1.000000    0.348623    0.455027   \n",
              "Fireplaces      0.304926     0.093722      0.348623    1.000000    0.309523   \n",
              "GarageCars      0.315229     0.456093      0.455027    0.309523    1.000000   \n",
              "TotalFullBath   0.196598     0.462743      0.362092    0.271576    0.506998   \n",
              "TotalHalfBath   0.027033     0.140128      0.320321    0.168309    0.143869   \n",
              "HouseAge       -0.055794    -0.631999     -0.221717   -0.144305   -0.564555   \n",
              "ConstArea       0.439405     0.364426      0.692364    0.455020    0.624792   \n",
              "QIndex          0.130673     0.427813      0.292215    0.253440    0.339627   \n",
              "Price_sqft      0.147886     0.555968      0.165114    0.226706    0.500355   \n",
              "log(SalePrice)  0.402900     0.583612      0.588244    0.460149    0.730406   \n",
              "SalePrice       0.386135     0.536568      0.581919    0.441200    0.698357   \n",
              "\n",
              "                TotalFullBath  TotalHalfBath  HouseAge  ConstArea    QIndex  \\\n",
              "LotArea              0.196598       0.027033 -0.055794   0.439405  0.130673   \n",
              "YearRemodel          0.462743       0.140128 -0.631999   0.364426  0.427813   \n",
              "TotRmsAbvGrd         0.362092       0.320321 -0.221717   0.692364  0.292215   \n",
              "Fireplaces           0.271576       0.168309 -0.144305   0.455020  0.253440   \n",
              "GarageCars           0.506998       0.143869 -0.564555   0.624792  0.339627   \n",
              "TotalFullBath        1.000000      -0.023658 -0.531283   0.568080  0.270127   \n",
              "TotalHalfBath       -0.023658       1.000000 -0.196368   0.145426  0.121935   \n",
              "HouseAge            -0.531283      -0.196368  1.000000  -0.432555 -0.152578   \n",
              "ConstArea            0.568080       0.145426 -0.432555   1.000000  0.394340   \n",
              "QIndex               0.270127       0.121935 -0.152578   0.394340  1.000000   \n",
              "Price_sqft           0.424061       0.174051 -0.559809   0.239206  0.488512   \n",
              "log(SalePrice)       0.652016       0.212998 -0.639951   0.847248  0.559391   \n",
              "SalePrice            0.615873       0.192067 -0.587807   0.848029  0.537010   \n",
              "\n",
              "                Price_sqft  log(SalePrice)  SalePrice  \n",
              "LotArea           0.147886        0.402900   0.386135  \n",
              "YearRemodel       0.555968        0.583612   0.536568  \n",
              "TotRmsAbvGrd      0.165114        0.588244   0.581919  \n",
              "Fireplaces        0.226706        0.460149   0.441200  \n",
              "GarageCars        0.500355        0.730406   0.698357  \n",
              "TotalFullBath     0.424061        0.652016   0.615873  \n",
              "TotalHalfBath     0.174051        0.212998   0.192067  \n",
              "HouseAge         -0.559809       -0.639951  -0.587807  \n",
              "ConstArea         0.239206        0.847248   0.848029  \n",
              "QIndex            0.488512        0.559391   0.537010  \n",
              "Price_sqft        1.000000        0.691385   0.695686  \n",
              "log(SalePrice)    0.691385        1.000000   0.968211  \n",
              "SalePrice         0.695686        0.968211   1.000000  "
            ],
            "text/html": [
              "\n",
              "  <div id=\"df-8ffc2a93-c35b-4953-8835-008397693261\" class=\"colab-df-container\">\n",
              "    <div>\n",
              "<style scoped>\n",
              "    .dataframe tbody tr th:only-of-type {\n",
              "        vertical-align: middle;\n",
              "    }\n",
              "\n",
              "    .dataframe tbody tr th {\n",
              "        vertical-align: top;\n",
              "    }\n",
              "\n",
              "    .dataframe thead th {\n",
              "        text-align: right;\n",
              "    }\n",
              "</style>\n",
              "<table border=\"1\" class=\"dataframe\">\n",
              "  <thead>\n",
              "    <tr style=\"text-align: right;\">\n",
              "      <th></th>\n",
              "      <th>LotArea</th>\n",
              "      <th>YearRemodel</th>\n",
              "      <th>TotRmsAbvGrd</th>\n",
              "      <th>Fireplaces</th>\n",
              "      <th>GarageCars</th>\n",
              "      <th>TotalFullBath</th>\n",
              "      <th>TotalHalfBath</th>\n",
              "      <th>HouseAge</th>\n",
              "      <th>ConstArea</th>\n",
              "      <th>QIndex</th>\n",
              "      <th>Price_sqft</th>\n",
              "      <th>log(SalePrice)</th>\n",
              "      <th>SalePrice</th>\n",
              "    </tr>\n",
              "  </thead>\n",
              "  <tbody>\n",
              "    <tr>\n",
              "      <th>LotArea</th>\n",
              "      <td>1.000000</td>\n",
              "      <td>0.044593</td>\n",
              "      <td>0.398022</td>\n",
              "      <td>0.304926</td>\n",
              "      <td>0.315229</td>\n",
              "      <td>0.196598</td>\n",
              "      <td>0.027033</td>\n",
              "      <td>-0.055794</td>\n",
              "      <td>0.439405</td>\n",
              "      <td>0.130673</td>\n",
              "      <td>0.147886</td>\n",
              "      <td>0.402900</td>\n",
              "      <td>0.386135</td>\n",
              "    </tr>\n",
              "    <tr>\n",
              "      <th>YearRemodel</th>\n",
              "      <td>0.044593</td>\n",
              "      <td>1.000000</td>\n",
              "      <td>0.226496</td>\n",
              "      <td>0.093722</td>\n",
              "      <td>0.456093</td>\n",
              "      <td>0.462743</td>\n",
              "      <td>0.140128</td>\n",
              "      <td>-0.631999</td>\n",
              "      <td>0.364426</td>\n",
              "      <td>0.427813</td>\n",
              "      <td>0.555968</td>\n",
              "      <td>0.583612</td>\n",
              "      <td>0.536568</td>\n",
              "    </tr>\n",
              "    <tr>\n",
              "      <th>TotRmsAbvGrd</th>\n",
              "      <td>0.398022</td>\n",
              "      <td>0.226496</td>\n",
              "      <td>1.000000</td>\n",
              "      <td>0.348623</td>\n",
              "      <td>0.455027</td>\n",
              "      <td>0.362092</td>\n",
              "      <td>0.320321</td>\n",
              "      <td>-0.221717</td>\n",
              "      <td>0.692364</td>\n",
              "      <td>0.292215</td>\n",
              "      <td>0.165114</td>\n",
              "      <td>0.588244</td>\n",
              "      <td>0.581919</td>\n",
              "    </tr>\n",
              "    <tr>\n",
              "      <th>Fireplaces</th>\n",
              "      <td>0.304926</td>\n",
              "      <td>0.093722</td>\n",
              "      <td>0.348623</td>\n",
              "      <td>1.000000</td>\n",
              "      <td>0.309523</td>\n",
              "      <td>0.271576</td>\n",
              "      <td>0.168309</td>\n",
              "      <td>-0.144305</td>\n",
              "      <td>0.455020</td>\n",
              "      <td>0.253440</td>\n",
              "      <td>0.226706</td>\n",
              "      <td>0.460149</td>\n",
              "      <td>0.441200</td>\n",
              "    </tr>\n",
              "    <tr>\n",
              "      <th>GarageCars</th>\n",
              "      <td>0.315229</td>\n",
              "      <td>0.456093</td>\n",
              "      <td>0.455027</td>\n",
              "      <td>0.309523</td>\n",
              "      <td>1.000000</td>\n",
              "      <td>0.506998</td>\n",
              "      <td>0.143869</td>\n",
              "      <td>-0.564555</td>\n",
              "      <td>0.624792</td>\n",
              "      <td>0.339627</td>\n",
              "      <td>0.500355</td>\n",
              "      <td>0.730406</td>\n",
              "      <td>0.698357</td>\n",
              "    </tr>\n",
              "    <tr>\n",
              "      <th>TotalFullBath</th>\n",
              "      <td>0.196598</td>\n",
              "      <td>0.462743</td>\n",
              "      <td>0.362092</td>\n",
              "      <td>0.271576</td>\n",
              "      <td>0.506998</td>\n",
              "      <td>1.000000</td>\n",
              "      <td>-0.023658</td>\n",
              "      <td>-0.531283</td>\n",
              "      <td>0.568080</td>\n",
              "      <td>0.270127</td>\n",
              "      <td>0.424061</td>\n",
              "      <td>0.652016</td>\n",
              "      <td>0.615873</td>\n",
              "    </tr>\n",
              "    <tr>\n",
              "      <th>TotalHalfBath</th>\n",
              "      <td>0.027033</td>\n",
              "      <td>0.140128</td>\n",
              "      <td>0.320321</td>\n",
              "      <td>0.168309</td>\n",
              "      <td>0.143869</td>\n",
              "      <td>-0.023658</td>\n",
              "      <td>1.000000</td>\n",
              "      <td>-0.196368</td>\n",
              "      <td>0.145426</td>\n",
              "      <td>0.121935</td>\n",
              "      <td>0.174051</td>\n",
              "      <td>0.212998</td>\n",
              "      <td>0.192067</td>\n",
              "    </tr>\n",
              "    <tr>\n",
              "      <th>HouseAge</th>\n",
              "      <td>-0.055794</td>\n",
              "      <td>-0.631999</td>\n",
              "      <td>-0.221717</td>\n",
              "      <td>-0.144305</td>\n",
              "      <td>-0.564555</td>\n",
              "      <td>-0.531283</td>\n",
              "      <td>-0.196368</td>\n",
              "      <td>1.000000</td>\n",
              "      <td>-0.432555</td>\n",
              "      <td>-0.152578</td>\n",
              "      <td>-0.559809</td>\n",
              "      <td>-0.639951</td>\n",
              "      <td>-0.587807</td>\n",
              "    </tr>\n",
              "    <tr>\n",
              "      <th>ConstArea</th>\n",
              "      <td>0.439405</td>\n",
              "      <td>0.364426</td>\n",
              "      <td>0.692364</td>\n",
              "      <td>0.455020</td>\n",
              "      <td>0.624792</td>\n",
              "      <td>0.568080</td>\n",
              "      <td>0.145426</td>\n",
              "      <td>-0.432555</td>\n",
              "      <td>1.000000</td>\n",
              "      <td>0.394340</td>\n",
              "      <td>0.239206</td>\n",
              "      <td>0.847248</td>\n",
              "      <td>0.848029</td>\n",
              "    </tr>\n",
              "    <tr>\n",
              "      <th>QIndex</th>\n",
              "      <td>0.130673</td>\n",
              "      <td>0.427813</td>\n",
              "      <td>0.292215</td>\n",
              "      <td>0.253440</td>\n",
              "      <td>0.339627</td>\n",
              "      <td>0.270127</td>\n",
              "      <td>0.121935</td>\n",
              "      <td>-0.152578</td>\n",
              "      <td>0.394340</td>\n",
              "      <td>1.000000</td>\n",
              "      <td>0.488512</td>\n",
              "      <td>0.559391</td>\n",
              "      <td>0.537010</td>\n",
              "    </tr>\n",
              "    <tr>\n",
              "      <th>Price_sqft</th>\n",
              "      <td>0.147886</td>\n",
              "      <td>0.555968</td>\n",
              "      <td>0.165114</td>\n",
              "      <td>0.226706</td>\n",
              "      <td>0.500355</td>\n",
              "      <td>0.424061</td>\n",
              "      <td>0.174051</td>\n",
              "      <td>-0.559809</td>\n",
              "      <td>0.239206</td>\n",
              "      <td>0.488512</td>\n",
              "      <td>1.000000</td>\n",
              "      <td>0.691385</td>\n",
              "      <td>0.695686</td>\n",
              "    </tr>\n",
              "    <tr>\n",
              "      <th>log(SalePrice)</th>\n",
              "      <td>0.402900</td>\n",
              "      <td>0.583612</td>\n",
              "      <td>0.588244</td>\n",
              "      <td>0.460149</td>\n",
              "      <td>0.730406</td>\n",
              "      <td>0.652016</td>\n",
              "      <td>0.212998</td>\n",
              "      <td>-0.639951</td>\n",
              "      <td>0.847248</td>\n",
              "      <td>0.559391</td>\n",
              "      <td>0.691385</td>\n",
              "      <td>1.000000</td>\n",
              "      <td>0.968211</td>\n",
              "    </tr>\n",
              "    <tr>\n",
              "      <th>SalePrice</th>\n",
              "      <td>0.386135</td>\n",
              "      <td>0.536568</td>\n",
              "      <td>0.581919</td>\n",
              "      <td>0.441200</td>\n",
              "      <td>0.698357</td>\n",
              "      <td>0.615873</td>\n",
              "      <td>0.192067</td>\n",
              "      <td>-0.587807</td>\n",
              "      <td>0.848029</td>\n",
              "      <td>0.537010</td>\n",
              "      <td>0.695686</td>\n",
              "      <td>0.968211</td>\n",
              "      <td>1.000000</td>\n",
              "    </tr>\n",
              "  </tbody>\n",
              "</table>\n",
              "</div>\n",
              "    <div class=\"colab-df-buttons\">\n",
              "\n",
              "  <div class=\"colab-df-container\">\n",
              "    <button class=\"colab-df-convert\" onclick=\"convertToInteractive('df-8ffc2a93-c35b-4953-8835-008397693261')\"\n",
              "            title=\"Convert this dataframe to an interactive table.\"\n",
              "            style=\"display:none;\">\n",
              "\n",
              "  <svg xmlns=\"http://www.w3.org/2000/svg\" height=\"24px\" viewBox=\"0 -960 960 960\">\n",
              "    <path d=\"M120-120v-720h720v720H120Zm60-500h600v-160H180v160Zm220 220h160v-160H400v160Zm0 220h160v-160H400v160ZM180-400h160v-160H180v160Zm440 0h160v-160H620v160ZM180-180h160v-160H180v160Zm440 0h160v-160H620v160Z\"/>\n",
              "  </svg>\n",
              "    </button>\n",
              "\n",
              "  <style>\n",
              "    .colab-df-container {\n",
              "      display:flex;\n",
              "      gap: 12px;\n",
              "    }\n",
              "\n",
              "    .colab-df-convert {\n",
              "      background-color: #E8F0FE;\n",
              "      border: none;\n",
              "      border-radius: 50%;\n",
              "      cursor: pointer;\n",
              "      display: none;\n",
              "      fill: #1967D2;\n",
              "      height: 32px;\n",
              "      padding: 0 0 0 0;\n",
              "      width: 32px;\n",
              "    }\n",
              "\n",
              "    .colab-df-convert:hover {\n",
              "      background-color: #E2EBFA;\n",
              "      box-shadow: 0px 1px 2px rgba(60, 64, 67, 0.3), 0px 1px 3px 1px rgba(60, 64, 67, 0.15);\n",
              "      fill: #174EA6;\n",
              "    }\n",
              "\n",
              "    .colab-df-buttons div {\n",
              "      margin-bottom: 4px;\n",
              "    }\n",
              "\n",
              "    [theme=dark] .colab-df-convert {\n",
              "      background-color: #3B4455;\n",
              "      fill: #D2E3FC;\n",
              "    }\n",
              "\n",
              "    [theme=dark] .colab-df-convert:hover {\n",
              "      background-color: #434B5C;\n",
              "      box-shadow: 0px 1px 3px 1px rgba(0, 0, 0, 0.15);\n",
              "      filter: drop-shadow(0px 1px 2px rgba(0, 0, 0, 0.3));\n",
              "      fill: #FFFFFF;\n",
              "    }\n",
              "  </style>\n",
              "\n",
              "    <script>\n",
              "      const buttonEl =\n",
              "        document.querySelector('#df-8ffc2a93-c35b-4953-8835-008397693261 button.colab-df-convert');\n",
              "      buttonEl.style.display =\n",
              "        google.colab.kernel.accessAllowed ? 'block' : 'none';\n",
              "\n",
              "      async function convertToInteractive(key) {\n",
              "        const element = document.querySelector('#df-8ffc2a93-c35b-4953-8835-008397693261');\n",
              "        const dataTable =\n",
              "          await google.colab.kernel.invokeFunction('convertToInteractive',\n",
              "                                                    [key], {});\n",
              "        if (!dataTable) return;\n",
              "\n",
              "        const docLinkHtml = 'Like what you see? Visit the ' +\n",
              "          '<a target=\"_blank\" href=https://colab.research.google.com/notebooks/data_table.ipynb>data table notebook</a>'\n",
              "          + ' to learn more about interactive tables.';\n",
              "        element.innerHTML = '';\n",
              "        dataTable['output_type'] = 'display_data';\n",
              "        await google.colab.output.renderOutput(dataTable, element);\n",
              "        const docLink = document.createElement('div');\n",
              "        docLink.innerHTML = docLinkHtml;\n",
              "        element.appendChild(docLink);\n",
              "      }\n",
              "    </script>\n",
              "  </div>\n",
              "\n",
              "\n",
              "<div id=\"df-055df64c-059c-424b-83ad-891214e09be3\">\n",
              "  <button class=\"colab-df-quickchart\" onclick=\"quickchart('df-055df64c-059c-424b-83ad-891214e09be3')\"\n",
              "            title=\"Suggest charts\"\n",
              "            style=\"display:none;\">\n",
              "\n",
              "<svg xmlns=\"http://www.w3.org/2000/svg\" height=\"24px\"viewBox=\"0 0 24 24\"\n",
              "     width=\"24px\">\n",
              "    <g>\n",
              "        <path d=\"M19 3H5c-1.1 0-2 .9-2 2v14c0 1.1.9 2 2 2h14c1.1 0 2-.9 2-2V5c0-1.1-.9-2-2-2zM9 17H7v-7h2v7zm4 0h-2V7h2v10zm4 0h-2v-4h2v4z\"/>\n",
              "    </g>\n",
              "</svg>\n",
              "  </button>\n",
              "\n",
              "<style>\n",
              "  .colab-df-quickchart {\n",
              "      --bg-color: #E8F0FE;\n",
              "      --fill-color: #1967D2;\n",
              "      --hover-bg-color: #E2EBFA;\n",
              "      --hover-fill-color: #174EA6;\n",
              "      --disabled-fill-color: #AAA;\n",
              "      --disabled-bg-color: #DDD;\n",
              "  }\n",
              "\n",
              "  [theme=dark] .colab-df-quickchart {\n",
              "      --bg-color: #3B4455;\n",
              "      --fill-color: #D2E3FC;\n",
              "      --hover-bg-color: #434B5C;\n",
              "      --hover-fill-color: #FFFFFF;\n",
              "      --disabled-bg-color: #3B4455;\n",
              "      --disabled-fill-color: #666;\n",
              "  }\n",
              "\n",
              "  .colab-df-quickchart {\n",
              "    background-color: var(--bg-color);\n",
              "    border: none;\n",
              "    border-radius: 50%;\n",
              "    cursor: pointer;\n",
              "    display: none;\n",
              "    fill: var(--fill-color);\n",
              "    height: 32px;\n",
              "    padding: 0;\n",
              "    width: 32px;\n",
              "  }\n",
              "\n",
              "  .colab-df-quickchart:hover {\n",
              "    background-color: var(--hover-bg-color);\n",
              "    box-shadow: 0 1px 2px rgba(60, 64, 67, 0.3), 0 1px 3px 1px rgba(60, 64, 67, 0.15);\n",
              "    fill: var(--button-hover-fill-color);\n",
              "  }\n",
              "\n",
              "  .colab-df-quickchart-complete:disabled,\n",
              "  .colab-df-quickchart-complete:disabled:hover {\n",
              "    background-color: var(--disabled-bg-color);\n",
              "    fill: var(--disabled-fill-color);\n",
              "    box-shadow: none;\n",
              "  }\n",
              "\n",
              "  .colab-df-spinner {\n",
              "    border: 2px solid var(--fill-color);\n",
              "    border-color: transparent;\n",
              "    border-bottom-color: var(--fill-color);\n",
              "    animation:\n",
              "      spin 1s steps(1) infinite;\n",
              "  }\n",
              "\n",
              "  @keyframes spin {\n",
              "    0% {\n",
              "      border-color: transparent;\n",
              "      border-bottom-color: var(--fill-color);\n",
              "      border-left-color: var(--fill-color);\n",
              "    }\n",
              "    20% {\n",
              "      border-color: transparent;\n",
              "      border-left-color: var(--fill-color);\n",
              "      border-top-color: var(--fill-color);\n",
              "    }\n",
              "    30% {\n",
              "      border-color: transparent;\n",
              "      border-left-color: var(--fill-color);\n",
              "      border-top-color: var(--fill-color);\n",
              "      border-right-color: var(--fill-color);\n",
              "    }\n",
              "    40% {\n",
              "      border-color: transparent;\n",
              "      border-right-color: var(--fill-color);\n",
              "      border-top-color: var(--fill-color);\n",
              "    }\n",
              "    60% {\n",
              "      border-color: transparent;\n",
              "      border-right-color: var(--fill-color);\n",
              "    }\n",
              "    80% {\n",
              "      border-color: transparent;\n",
              "      border-right-color: var(--fill-color);\n",
              "      border-bottom-color: var(--fill-color);\n",
              "    }\n",
              "    90% {\n",
              "      border-color: transparent;\n",
              "      border-bottom-color: var(--fill-color);\n",
              "    }\n",
              "  }\n",
              "</style>\n",
              "\n",
              "  <script>\n",
              "    async function quickchart(key) {\n",
              "      const quickchartButtonEl =\n",
              "        document.querySelector('#' + key + ' button');\n",
              "      quickchartButtonEl.disabled = true;  // To prevent multiple clicks.\n",
              "      quickchartButtonEl.classList.add('colab-df-spinner');\n",
              "      try {\n",
              "        const charts = await google.colab.kernel.invokeFunction(\n",
              "            'suggestCharts', [key], {});\n",
              "      } catch (error) {\n",
              "        console.error('Error during call to suggestCharts:', error);\n",
              "      }\n",
              "      quickchartButtonEl.classList.remove('colab-df-spinner');\n",
              "      quickchartButtonEl.classList.add('colab-df-quickchart-complete');\n",
              "    }\n",
              "    (() => {\n",
              "      let quickchartButtonEl =\n",
              "        document.querySelector('#df-055df64c-059c-424b-83ad-891214e09be3 button');\n",
              "      quickchartButtonEl.style.display =\n",
              "        google.colab.kernel.accessAllowed ? 'block' : 'none';\n",
              "    })();\n",
              "  </script>\n",
              "</div>\n",
              "\n",
              "    </div>\n",
              "  </div>\n"
            ],
            "application/vnd.google.colaboratory.intrinsic+json": {
              "type": "dataframe",
              "summary": "{\n  \"name\": \"data\",\n  \"rows\": 13,\n  \"fields\": [\n    {\n      \"column\": \"LotArea\",\n      \"properties\": {\n        \"dtype\": \"number\",\n        \"std\": 0.2683456443667147,\n        \"min\": -0.055794489277713584,\n        \"max\": 1.0,\n        \"num_unique_values\": 13,\n        \"samples\": [\n          0.40289973186107947,\n          0.1306733283667677,\n          1.0\n        ],\n        \"semantic_type\": \"\",\n        \"description\": \"\"\n      }\n    },\n    {\n      \"column\": \"YearRemodel\",\n      \"properties\": {\n        \"dtype\": \"number\",\n        \"std\": 0.3830411499084002,\n        \"min\": -0.6319993743694697,\n        \"max\": 1.0,\n        \"num_unique_values\": 13,\n        \"samples\": [\n          0.583612006277944,\n          0.4278130571050423,\n          0.04459325893836139\n        ],\n        \"semantic_type\": \"\",\n        \"description\": \"\"\n      }\n    },\n    {\n      \"column\": \"TotRmsAbvGrd\",\n      \"properties\": {\n        \"dtype\": \"number\",\n        \"std\": 0.29024170223292906,\n        \"min\": -0.22171684644223602,\n        \"max\": 1.0,\n        \"num_unique_values\": 13,\n        \"samples\": [\n          0.5882441285428904,\n          0.2922151487512361,\n          0.39802186467009976\n        ],\n        \"semantic_type\": \"\",\n        \"description\": \"\"\n      }\n    },\n    {\n      \"column\": \"Fireplaces\",\n      \"properties\": {\n        \"dtype\": \"number\",\n        \"std\": 0.26161731191215365,\n        \"min\": -0.1443047632816299,\n        \"max\": 1.0,\n        \"num_unique_values\": 13,\n        \"samples\": [\n          0.4601490419536903,\n          0.2534396320926608,\n          0.30492580336441955\n        ],\n        \"semantic_type\": \"\",\n        \"description\": \"\"\n      }\n    },\n    {\n      \"column\": \"GarageCars\",\n      \"properties\": {\n        \"dtype\": \"number\",\n        \"std\": 0.3701046573922334,\n        \"min\": -0.5645550105622029,\n        \"max\": 1.0,\n        \"num_unique_values\": 13,\n        \"samples\": [\n          0.7304057242740375,\n          0.33962744512694565,\n          0.3152292549088263\n        ],\n        \"semantic_type\": \"\",\n        \"description\": \"\"\n      }\n    },\n    {\n      \"column\": \"TotalFullBath\",\n      \"properties\": {\n        \"dtype\": \"number\",\n        \"std\": 0.3678079496717303,\n        \"min\": -0.5312833055047896,\n        \"max\": 1.0,\n        \"num_unique_values\": 13,\n        \"samples\": [\n          0.6520155834746768,\n          0.27012675222887556,\n          0.19659800306276143\n        ],\n        \"semantic_type\": \"\",\n        \"description\": \"\"\n      }\n    },\n    {\n      \"column\": \"TotalHalfBath\",\n      \"properties\": {\n        \"dtype\": \"number\",\n        \"std\": 0.2749115212343269,\n        \"min\": -0.19636752051632536,\n        \"max\": 1.0,\n        \"num_unique_values\": 13,\n        \"samples\": [\n          0.21299765054887898,\n          0.12193452308780503,\n          0.02703314124898427\n        ],\n        \"semantic_type\": \"\",\n        \"description\": \"\"\n      }\n    },\n    {\n      \"column\": \"HouseAge\",\n      \"properties\": {\n        \"dtype\": \"number\",\n        \"std\": 0.440371632157607,\n        \"min\": -0.6399506306274619,\n        \"max\": 1.0,\n        \"num_unique_values\": 13,\n        \"samples\": [\n          -0.6399506306274619,\n          -0.15257780784956373,\n          -0.055794489277713584\n        ],\n        \"semantic_type\": \"\",\n        \"description\": \"\"\n      }\n    },\n    {\n      \"column\": \"ConstArea\",\n      \"properties\": {\n        \"dtype\": \"number\",\n        \"std\": 0.36967971852229137,\n        \"min\": -0.43255527888084644,\n        \"max\": 1.0,\n        \"num_unique_values\": 13,\n        \"samples\": [\n          0.8472480889259109,\n          0.3943402346937204,\n          0.4394047226863001\n        ],\n        \"semantic_type\": \"\",\n        \"description\": \"\"\n      }\n    },\n    {\n      \"column\": \"QIndex\",\n      \"properties\": {\n        \"dtype\": \"number\",\n        \"std\": 0.2737704103263713,\n        \"min\": -0.15257780784956373,\n        \"max\": 1.0,\n        \"num_unique_values\": 13,\n        \"samples\": [\n          0.559390930392293,\n          1.0,\n          0.1306733283667677\n        ],\n        \"semantic_type\": \"\",\n        \"description\": \"\"\n      }\n    },\n    {\n      \"column\": \"Price_sqft\",\n      \"properties\": {\n        \"dtype\": \"number\",\n        \"std\": 0.37709545880697276,\n        \"min\": -0.5598086067732747,\n        \"max\": 1.0,\n        \"num_unique_values\": 13,\n        \"samples\": [\n          0.6913852192252321,\n          0.48851154874661773,\n          0.14788587858682098\n        ],\n        \"semantic_type\": \"\",\n        \"description\": \"\"\n      }\n    },\n    {\n      \"column\": \"log(SalePrice)\",\n      \"properties\": {\n        \"dtype\": \"number\",\n        \"std\": 0.41733023863752633,\n        \"min\": -0.6399506306274619,\n        \"max\": 1.0,\n        \"num_unique_values\": 13,\n        \"samples\": [\n          1.0,\n          0.559390930392293,\n          0.40289973186107947\n        ],\n        \"semantic_type\": \"\",\n        \"description\": \"\"\n      }\n    },\n    {\n      \"column\": \"SalePrice\",\n      \"properties\": {\n        \"dtype\": \"number\",\n        \"std\": 0.4054072472622906,\n        \"min\": -0.5878065874074195,\n        \"max\": 1.0,\n        \"num_unique_values\": 13,\n        \"samples\": [\n          0.9682108427685985,\n          0.5370099702085397,\n          0.38613527157556304\n        ],\n        \"semantic_type\": \"\",\n        \"description\": \"\"\n      }\n    }\n  ]\n}"
            }
          },
          "metadata": {},
          "execution_count": 15
        }
      ]
    },
    {
      "cell_type": "code",
      "source": [
        "# Assuming 'target_column' is the column you want to predict, and 'feature_columns' are the predictor variables\n",
        "X = data[['ConstArea','LotArea','HouseAge','QIndex']]  # Add all your predictor variables here\n",
        "y = data['SalePrice']\n",
        "\n",
        "# Fit the multiple linear regression model\n",
        "model = sm.OLS(y, sm.add_constant(X)).fit()\n",
        "\n",
        "# Get the summary of the regression model\n",
        "print(model.summary())\n",
        "\n",
        "\n",
        "\n",
        "# Print the regression equation\n",
        "print(\"Regression Equation:\")\n",
        "print(\"SalePrice = {:.4f} + {:.4f}*ConstArea + {:.4f}*LotArea+ {:.4f}*HouseAge + {:.4f}*QIndex\".format(model.params['const'], model.params['ConstArea'], model.params['LotArea'], model.params['HouseAge'], model.params['QIndex']))\n"
      ],
      "metadata": {
        "id": "ubPRhr1rSIrl",
        "colab": {
          "base_uri": "https://localhost:8080/"
        },
        "outputId": "c811f050-ed11-4f01-dd63-84f6eb3abfd1"
      },
      "execution_count": null,
      "outputs": [
        {
          "output_type": "stream",
          "name": "stdout",
          "text": [
            "                            OLS Regression Results                            \n",
            "==============================================================================\n",
            "Dep. Variable:              SalePrice   R-squared:                       0.835\n",
            "Model:                            OLS   Adj. R-squared:                  0.835\n",
            "Method:                 Least Squares   F-statistic:                     2562.\n",
            "Date:                Thu, 25 Apr 2024   Prob (F-statistic):               0.00\n",
            "Time:                        09:23:04   Log-Likelihood:                -23868.\n",
            "No. Observations:                2030   AIC:                         4.775e+04\n",
            "Df Residuals:                    2025   BIC:                         4.777e+04\n",
            "Df Model:                           4                                         \n",
            "Covariance Type:            nonrobust                                         \n",
            "==============================================================================\n",
            "                 coef    std err          t      P>|t|      [0.025      0.975]\n",
            "------------------------------------------------------------------------------\n",
            "const      -4.878e+04   3984.602    -12.242      0.000   -5.66e+04    -4.1e+04\n",
            "ConstArea     62.5696      1.280     48.866      0.000      60.058      65.081\n",
            "LotArea        1.6739      0.218      7.668      0.000       1.246       2.102\n",
            "HouseAge    -783.1308     27.397    -28.584      0.000    -836.861    -729.401\n",
            "QIndex      2419.8918     95.230     25.411      0.000    2233.132    2606.652\n",
            "==============================================================================\n",
            "Omnibus:                      406.639   Durbin-Watson:                   1.460\n",
            "Prob(Omnibus):                  0.000   Jarque-Bera (JB):             1850.941\n",
            "Skew:                           0.886   Prob(JB):                         0.00\n",
            "Kurtosis:                       7.329   Cond. No.                     6.08e+04\n",
            "==============================================================================\n",
            "\n",
            "Notes:\n",
            "[1] Standard Errors assume that the covariance matrix of the errors is correctly specified.\n",
            "[2] The condition number is large, 6.08e+04. This might indicate that there are\n",
            "strong multicollinearity or other numerical problems.\n",
            "Regression Equation:\n",
            "SalePrice = -48777.5733 + 62.5696*ConstArea + 1.6739*LotArea+ -783.1308*HouseAge + 2419.8918*QIndex\n"
          ]
        }
      ]
    },
    {
      "cell_type": "code",
      "source": [
        "# Coefficients from the provided regression equation\n",
        "b0 = -48777.5733\n",
        "b1 = 62.5696\n",
        "b2 = 1.6739\n",
        "b3 = -783.1308\n",
        "b4 = 2419.8918\n",
        "\n",
        "# Extract the required features from the dataset\n",
        "ConstArea = data['ConstArea']\n",
        "LotArea = data['LotArea']\n",
        "HouseAge = data['HouseAge']\n",
        "QIndex = data['QIndex']\n",
        "\n",
        "# Calculate the predicted values using the regression equation\n",
        "predicted_values = b0 + b1 * ConstArea + b2 * LotArea + b3 * HouseAge + b4 * QIndex\n",
        "\n",
        "# Extract the actual values\n",
        "actual_values = data['SalePrice']\n",
        "\n",
        "# Calculate the residuals\n",
        "residuals = actual_values - predicted_values\n",
        "res_square = residuals**2\n",
        "sum_res_square1= np.sum(res_square)\n",
        "\n",
        "# Create a DataFrame to hold actual, predicted, and residual values\n",
        "results = pd.DataFrame({'Actual': actual_values, 'Predicted': predicted_values, 'Residual': residuals,'Res_Sqr':res_square})\n",
        "\n",
        "# Print the actual, predicted, and residual values\n",
        "print(results)\n"
      ],
      "metadata": {
        "colab": {
          "base_uri": "https://localhost:8080/"
        },
        "id": "e_CG0c-ZJm_E",
        "outputId": "ca0ffd60-0cff-43e0-b8eb-f41e9f39c28d"
      },
      "execution_count": null,
      "outputs": [
        {
          "output_type": "stream",
          "name": "stdout",
          "text": [
            "        Actual    Predicted    Residual       Res_Sqr\n",
            "0     215000.0  209032.8693   5967.1307  3.560665e+07\n",
            "1     172000.0  187807.2580 -15807.2580  2.498694e+08\n",
            "2     244000.0  285751.5821 -41751.5821  1.743195e+09\n",
            "3     189900.0  184679.5255   5220.4745  2.725335e+07\n",
            "4     195500.0  203944.2241  -8444.2241  7.130492e+07\n",
            "...        ...          ...         ...           ...\n",
            "2025  131000.0  186543.0037 -55543.0037  3.085025e+09\n",
            "2026  142500.0  159910.0158 -17410.0158  3.031087e+08\n",
            "2027  132000.0  135989.0676  -3989.0676  1.591266e+07\n",
            "2028  170000.0  177233.6239  -7233.6239  5.232531e+07\n",
            "2029  188000.0  229311.0962 -41311.0962  1.706607e+09\n",
            "\n",
            "[2030 rows x 4 columns]\n"
          ]
        }
      ]
    },
    {
      "cell_type": "code",
      "source": [
        "import numpy as np\n",
        "\n",
        "# Step 1: Fit the multiple regression model and obtain residuals\n",
        "# Assume you have already fitted the model and obtained residuals\n",
        "#residuals = np.array([...])  # Array of residuals\n",
        "\n",
        "# Step 2: Calculate the Residual Sum of Squares (RSS)\n",
        "RSS = np.sum(results['Res_Sqr'])\n",
        "\n",
        "# Step 3: Determine the degrees of freedom (DF)\n",
        "n = 2030  # Total number of observations\n",
        "p = 4  # Number of predictors (including intercept)\n",
        "DF = n - p - 1  # Degrees of freedom\n",
        "\n",
        "# Step 4: Compute the Mean Squared Error (MSE)\n",
        "MSE = RSS / DF\n",
        "\n",
        "# Step 5: Calculate the variance-covariance matrix of the coefficient estimates\n",
        "# Assuming you have already obtained the coefficient estimates and the design matrix X\n",
        "# coef = np.array([...])  # Coefficient estimates\n",
        "# X = np.array([...])  # Design matrix\n",
        "# Compute the inverse of the product of X'X\n",
        "XtX_inv = np.linalg.inv(np.dot(X.T, X))\n",
        "\n",
        "# Calculate the variance-covariance matrix\n",
        "var_cov_matrix = MSE * XtX_inv\n",
        "\n",
        "# Step 6: Extract the standard errors from the variance-covariance matrix\n",
        "# The standard errors are the square roots of the diagonal elements of the variance-covariance matrix\n",
        "std_errors = np.sqrt(np.diag(var_cov_matrix))\n",
        "\n",
        "# Print the standard errors for each coefficient\n",
        "print(\"Standard Errors:\")\n",
        "for i, std_err in enumerate(std_errors):\n",
        "    print(f\"Coefficient {i+1}: {std_err}\")\n"
      ],
      "metadata": {
        "colab": {
          "base_uri": "https://localhost:8080/"
        },
        "id": "LCuHHSsriFtj",
        "outputId": "97c41569-72ea-41e8-d081-eb5b54c0452a"
      },
      "execution_count": null,
      "outputs": [
        {
          "output_type": "stream",
          "name": "stdout",
          "text": [
            "Standard Errors:\n",
            "Coefficient 1: 1.1759369495975434\n",
            "Coefficient 2: 0.2155543200942961\n",
            "Coefficient 3: 24.244528246542355\n",
            "Coefficient 4: 79.18190991561104\n"
          ]
        }
      ]
    },
    {
      "cell_type": "code",
      "source": [
        "anova_table = create_anova_table(actual_values, predicted_values, 4)\n",
        "anova_table.show()"
      ],
      "metadata": {
        "colab": {
          "base_uri": "https://localhost:8080/"
        },
        "id": "4Pppf-KRiBln",
        "outputId": "4909100b-5aa6-46fa-c441-d1334f501b57"
      },
      "execution_count": null,
      "outputs": [
        {
          "output_type": "display_data",
          "data": {
            "text/html": [
              "<html>\n",
              "<head><meta charset=\"utf-8\" /></head>\n",
              "<body>\n",
              "    <div>            <script src=\"https://cdnjs.cloudflare.com/ajax/libs/mathjax/2.7.5/MathJax.js?config=TeX-AMS-MML_SVG\"></script><script type=\"text/javascript\">if (window.MathJax && window.MathJax.Hub && window.MathJax.Hub.Config) {window.MathJax.Hub.Config({SVG: {font: \"STIX-Web\"}});}</script>                <script type=\"text/javascript\">window.PlotlyConfig = {MathJaxConfig: 'local'};</script>\n",
              "        <script charset=\"utf-8\" src=\"https://cdn.plot.ly/plotly-2.24.1.min.js\"></script>                <div id=\"019a0c4b-4139-4e90-8228-79ab6ce066c5\" class=\"plotly-graph-div\" style=\"height:525px; width:100%;\"></div>            <script type=\"text/javascript\">                                    window.PLOTLYENV=window.PLOTLYENV || {};                                    if (document.getElementById(\"019a0c4b-4139-4e90-8228-79ab6ce066c5\")) {                    Plotly.newPlot(                        \"019a0c4b-4139-4e90-8228-79ab6ce066c5\",                        [{\"cells\":{\"values\":[[\"Model\",\"Residual\",\"Total\"],[4,2025,2029],[9809338268645.113,1938058502786.1006,11747403073945.441],[2452334567161.2783,957065927.3017781,null],[2562.346539778151,null,null],[1.1102230246251565e-16,null,null]]},\"header\":{\"values\":[\"Source\",\"df\",\"sum_sq\",\"mean_sq\",\"F\",\"PR(\\u003eF)\"]},\"type\":\"table\"}],                        {\"template\":{\"data\":{\"histogram2dcontour\":[{\"type\":\"histogram2dcontour\",\"colorbar\":{\"outlinewidth\":0,\"ticks\":\"\"},\"colorscale\":[[0.0,\"#0d0887\"],[0.1111111111111111,\"#46039f\"],[0.2222222222222222,\"#7201a8\"],[0.3333333333333333,\"#9c179e\"],[0.4444444444444444,\"#bd3786\"],[0.5555555555555556,\"#d8576b\"],[0.6666666666666666,\"#ed7953\"],[0.7777777777777778,\"#fb9f3a\"],[0.8888888888888888,\"#fdca26\"],[1.0,\"#f0f921\"]]}],\"choropleth\":[{\"type\":\"choropleth\",\"colorbar\":{\"outlinewidth\":0,\"ticks\":\"\"}}],\"histogram2d\":[{\"type\":\"histogram2d\",\"colorbar\":{\"outlinewidth\":0,\"ticks\":\"\"},\"colorscale\":[[0.0,\"#0d0887\"],[0.1111111111111111,\"#46039f\"],[0.2222222222222222,\"#7201a8\"],[0.3333333333333333,\"#9c179e\"],[0.4444444444444444,\"#bd3786\"],[0.5555555555555556,\"#d8576b\"],[0.6666666666666666,\"#ed7953\"],[0.7777777777777778,\"#fb9f3a\"],[0.8888888888888888,\"#fdca26\"],[1.0,\"#f0f921\"]]}],\"heatmap\":[{\"type\":\"heatmap\",\"colorbar\":{\"outlinewidth\":0,\"ticks\":\"\"},\"colorscale\":[[0.0,\"#0d0887\"],[0.1111111111111111,\"#46039f\"],[0.2222222222222222,\"#7201a8\"],[0.3333333333333333,\"#9c179e\"],[0.4444444444444444,\"#bd3786\"],[0.5555555555555556,\"#d8576b\"],[0.6666666666666666,\"#ed7953\"],[0.7777777777777778,\"#fb9f3a\"],[0.8888888888888888,\"#fdca26\"],[1.0,\"#f0f921\"]]}],\"heatmapgl\":[{\"type\":\"heatmapgl\",\"colorbar\":{\"outlinewidth\":0,\"ticks\":\"\"},\"colorscale\":[[0.0,\"#0d0887\"],[0.1111111111111111,\"#46039f\"],[0.2222222222222222,\"#7201a8\"],[0.3333333333333333,\"#9c179e\"],[0.4444444444444444,\"#bd3786\"],[0.5555555555555556,\"#d8576b\"],[0.6666666666666666,\"#ed7953\"],[0.7777777777777778,\"#fb9f3a\"],[0.8888888888888888,\"#fdca26\"],[1.0,\"#f0f921\"]]}],\"contourcarpet\":[{\"type\":\"contourcarpet\",\"colorbar\":{\"outlinewidth\":0,\"ticks\":\"\"}}],\"contour\":[{\"type\":\"contour\",\"colorbar\":{\"outlinewidth\":0,\"ticks\":\"\"},\"colorscale\":[[0.0,\"#0d0887\"],[0.1111111111111111,\"#46039f\"],[0.2222222222222222,\"#7201a8\"],[0.3333333333333333,\"#9c179e\"],[0.4444444444444444,\"#bd3786\"],[0.5555555555555556,\"#d8576b\"],[0.6666666666666666,\"#ed7953\"],[0.7777777777777778,\"#fb9f3a\"],[0.8888888888888888,\"#fdca26\"],[1.0,\"#f0f921\"]]}],\"surface\":[{\"type\":\"surface\",\"colorbar\":{\"outlinewidth\":0,\"ticks\":\"\"},\"colorscale\":[[0.0,\"#0d0887\"],[0.1111111111111111,\"#46039f\"],[0.2222222222222222,\"#7201a8\"],[0.3333333333333333,\"#9c179e\"],[0.4444444444444444,\"#bd3786\"],[0.5555555555555556,\"#d8576b\"],[0.6666666666666666,\"#ed7953\"],[0.7777777777777778,\"#fb9f3a\"],[0.8888888888888888,\"#fdca26\"],[1.0,\"#f0f921\"]]}],\"mesh3d\":[{\"type\":\"mesh3d\",\"colorbar\":{\"outlinewidth\":0,\"ticks\":\"\"}}],\"scatter\":[{\"fillpattern\":{\"fillmode\":\"overlay\",\"size\":10,\"solidity\":0.2},\"type\":\"scatter\"}],\"parcoords\":[{\"type\":\"parcoords\",\"line\":{\"colorbar\":{\"outlinewidth\":0,\"ticks\":\"\"}}}],\"scatterpolargl\":[{\"type\":\"scatterpolargl\",\"marker\":{\"colorbar\":{\"outlinewidth\":0,\"ticks\":\"\"}}}],\"bar\":[{\"error_x\":{\"color\":\"#2a3f5f\"},\"error_y\":{\"color\":\"#2a3f5f\"},\"marker\":{\"line\":{\"color\":\"#E5ECF6\",\"width\":0.5},\"pattern\":{\"fillmode\":\"overlay\",\"size\":10,\"solidity\":0.2}},\"type\":\"bar\"}],\"scattergeo\":[{\"type\":\"scattergeo\",\"marker\":{\"colorbar\":{\"outlinewidth\":0,\"ticks\":\"\"}}}],\"scatterpolar\":[{\"type\":\"scatterpolar\",\"marker\":{\"colorbar\":{\"outlinewidth\":0,\"ticks\":\"\"}}}],\"histogram\":[{\"marker\":{\"pattern\":{\"fillmode\":\"overlay\",\"size\":10,\"solidity\":0.2}},\"type\":\"histogram\"}],\"scattergl\":[{\"type\":\"scattergl\",\"marker\":{\"colorbar\":{\"outlinewidth\":0,\"ticks\":\"\"}}}],\"scatter3d\":[{\"type\":\"scatter3d\",\"line\":{\"colorbar\":{\"outlinewidth\":0,\"ticks\":\"\"}},\"marker\":{\"colorbar\":{\"outlinewidth\":0,\"ticks\":\"\"}}}],\"scattermapbox\":[{\"type\":\"scattermapbox\",\"marker\":{\"colorbar\":{\"outlinewidth\":0,\"ticks\":\"\"}}}],\"scatterternary\":[{\"type\":\"scatterternary\",\"marker\":{\"colorbar\":{\"outlinewidth\":0,\"ticks\":\"\"}}}],\"scattercarpet\":[{\"type\":\"scattercarpet\",\"marker\":{\"colorbar\":{\"outlinewidth\":0,\"ticks\":\"\"}}}],\"carpet\":[{\"aaxis\":{\"endlinecolor\":\"#2a3f5f\",\"gridcolor\":\"white\",\"linecolor\":\"white\",\"minorgridcolor\":\"white\",\"startlinecolor\":\"#2a3f5f\"},\"baxis\":{\"endlinecolor\":\"#2a3f5f\",\"gridcolor\":\"white\",\"linecolor\":\"white\",\"minorgridcolor\":\"white\",\"startlinecolor\":\"#2a3f5f\"},\"type\":\"carpet\"}],\"table\":[{\"cells\":{\"fill\":{\"color\":\"#EBF0F8\"},\"line\":{\"color\":\"white\"}},\"header\":{\"fill\":{\"color\":\"#C8D4E3\"},\"line\":{\"color\":\"white\"}},\"type\":\"table\"}],\"barpolar\":[{\"marker\":{\"line\":{\"color\":\"#E5ECF6\",\"width\":0.5},\"pattern\":{\"fillmode\":\"overlay\",\"size\":10,\"solidity\":0.2}},\"type\":\"barpolar\"}],\"pie\":[{\"automargin\":true,\"type\":\"pie\"}]},\"layout\":{\"autotypenumbers\":\"strict\",\"colorway\":[\"#636efa\",\"#EF553B\",\"#00cc96\",\"#ab63fa\",\"#FFA15A\",\"#19d3f3\",\"#FF6692\",\"#B6E880\",\"#FF97FF\",\"#FECB52\"],\"font\":{\"color\":\"#2a3f5f\"},\"hovermode\":\"closest\",\"hoverlabel\":{\"align\":\"left\"},\"paper_bgcolor\":\"white\",\"plot_bgcolor\":\"#E5ECF6\",\"polar\":{\"bgcolor\":\"#E5ECF6\",\"angularaxis\":{\"gridcolor\":\"white\",\"linecolor\":\"white\",\"ticks\":\"\"},\"radialaxis\":{\"gridcolor\":\"white\",\"linecolor\":\"white\",\"ticks\":\"\"}},\"ternary\":{\"bgcolor\":\"#E5ECF6\",\"aaxis\":{\"gridcolor\":\"white\",\"linecolor\":\"white\",\"ticks\":\"\"},\"baxis\":{\"gridcolor\":\"white\",\"linecolor\":\"white\",\"ticks\":\"\"},\"caxis\":{\"gridcolor\":\"white\",\"linecolor\":\"white\",\"ticks\":\"\"}},\"coloraxis\":{\"colorbar\":{\"outlinewidth\":0,\"ticks\":\"\"}},\"colorscale\":{\"sequential\":[[0.0,\"#0d0887\"],[0.1111111111111111,\"#46039f\"],[0.2222222222222222,\"#7201a8\"],[0.3333333333333333,\"#9c179e\"],[0.4444444444444444,\"#bd3786\"],[0.5555555555555556,\"#d8576b\"],[0.6666666666666666,\"#ed7953\"],[0.7777777777777778,\"#fb9f3a\"],[0.8888888888888888,\"#fdca26\"],[1.0,\"#f0f921\"]],\"sequentialminus\":[[0.0,\"#0d0887\"],[0.1111111111111111,\"#46039f\"],[0.2222222222222222,\"#7201a8\"],[0.3333333333333333,\"#9c179e\"],[0.4444444444444444,\"#bd3786\"],[0.5555555555555556,\"#d8576b\"],[0.6666666666666666,\"#ed7953\"],[0.7777777777777778,\"#fb9f3a\"],[0.8888888888888888,\"#fdca26\"],[1.0,\"#f0f921\"]],\"diverging\":[[0,\"#8e0152\"],[0.1,\"#c51b7d\"],[0.2,\"#de77ae\"],[0.3,\"#f1b6da\"],[0.4,\"#fde0ef\"],[0.5,\"#f7f7f7\"],[0.6,\"#e6f5d0\"],[0.7,\"#b8e186\"],[0.8,\"#7fbc41\"],[0.9,\"#4d9221\"],[1,\"#276419\"]]},\"xaxis\":{\"gridcolor\":\"white\",\"linecolor\":\"white\",\"ticks\":\"\",\"title\":{\"standoff\":15},\"zerolinecolor\":\"white\",\"automargin\":true,\"zerolinewidth\":2},\"yaxis\":{\"gridcolor\":\"white\",\"linecolor\":\"white\",\"ticks\":\"\",\"title\":{\"standoff\":15},\"zerolinecolor\":\"white\",\"automargin\":true,\"zerolinewidth\":2},\"scene\":{\"xaxis\":{\"backgroundcolor\":\"#E5ECF6\",\"gridcolor\":\"white\",\"linecolor\":\"white\",\"showbackground\":true,\"ticks\":\"\",\"zerolinecolor\":\"white\",\"gridwidth\":2},\"yaxis\":{\"backgroundcolor\":\"#E5ECF6\",\"gridcolor\":\"white\",\"linecolor\":\"white\",\"showbackground\":true,\"ticks\":\"\",\"zerolinecolor\":\"white\",\"gridwidth\":2},\"zaxis\":{\"backgroundcolor\":\"#E5ECF6\",\"gridcolor\":\"white\",\"linecolor\":\"white\",\"showbackground\":true,\"ticks\":\"\",\"zerolinecolor\":\"white\",\"gridwidth\":2}},\"shapedefaults\":{\"line\":{\"color\":\"#2a3f5f\"}},\"annotationdefaults\":{\"arrowcolor\":\"#2a3f5f\",\"arrowhead\":0,\"arrowwidth\":1},\"geo\":{\"bgcolor\":\"white\",\"landcolor\":\"#E5ECF6\",\"subunitcolor\":\"white\",\"showland\":true,\"showlakes\":true,\"lakecolor\":\"white\"},\"title\":{\"x\":0.05},\"mapbox\":{\"style\":\"light\"}}},\"title\":{\"text\":\"ANOVA Table\"}},                        {\"responsive\": true}                    ).then(function(){\n",
              "                            \n",
              "var gd = document.getElementById('019a0c4b-4139-4e90-8228-79ab6ce066c5');\n",
              "var x = new MutationObserver(function (mutations, observer) {{\n",
              "        var display = window.getComputedStyle(gd).display;\n",
              "        if (!display || display === 'none') {{\n",
              "            console.log([gd, 'removed!']);\n",
              "            Plotly.purge(gd);\n",
              "            observer.disconnect();\n",
              "        }}\n",
              "}});\n",
              "\n",
              "// Listen for the removal of the full notebook cells\n",
              "var notebookContainer = gd.closest('#notebook-container');\n",
              "if (notebookContainer) {{\n",
              "    x.observe(notebookContainer, {childList: true});\n",
              "}}\n",
              "\n",
              "// Listen for the clearing of the current output cell\n",
              "var outputEl = gd.closest('.output');\n",
              "if (outputEl) {{\n",
              "    x.observe(outputEl, {childList: true});\n",
              "}}\n",
              "\n",
              "                        })                };                            </script>        </div>\n",
              "</body>\n",
              "</html>"
            ]
          },
          "metadata": {}
        }
      ]
    },
    {
      "cell_type": "markdown",
      "source": [
        "## Hypothesis testing for coefficients of Model3"
      ],
      "metadata": {
        "id": "F8mza5v9GIiR"
      }
    },
    {
      "cell_type": "code",
      "source": [
        "from scipy.stats import t\n",
        "\n",
        "\n",
        "def hypothesis_testing_regression1(coef,x,p):\n",
        "    n = len(x)\n",
        "    summary = model.summary()\n",
        "# Extract coefficients and standard errors from the summary table\n",
        "    coef_data = summary.tables[1].data  # Extract table data for coefficients and standard errors\n",
        "\n",
        "# Coefficients are typically in the first column and standard errors in the second column\n",
        "    coefficients = [float(row[1]) for row in coef_data[1:]]  # Skip the first row as it contains headers\n",
        "    std_errors = [float(row[2]) for row in coef_data[1:]]\n",
        "\n",
        "    for i in range(len(coefficients)):\n",
        "      if coefficients[i] == coef:\n",
        "        std_error = std_errors[i]\n",
        "\n",
        "    # Step 1: State the Null Hypothesis and Alternative Hypothesis\n",
        "    print(\"1. Step 1\")\n",
        "    print(\"Null Hypothesis: β = 0 (No effect on dependent variable) for all i\")\n",
        "    print(\"Alternative Hypothesis: β ≠ 0\")\n",
        "\n",
        "    # Step 2: Set α\n",
        "    print(\"2. Step 2\")\n",
        "    alpha = 0.05\n",
        "    print(\"Alpha =\", alpha)\n",
        "\n",
        "    # Step 3: Collect Data\n",
        "    print(\"3. Step 3: Data Collection\")\n",
        "    # sum_of_residual_sq = np.sum(res_square)\n",
        "    # print(\"Sum of Squared Residuals =\", sum_of_residual_sq)\n",
        "\n",
        "    # df_residual = n - num_predictors - 1\n",
        "    # Mse = sum_of_residual_sq / df_residual\n",
        "    print(\"Coefficient =\", coef)\n",
        "    print(\"Standard error =\", std_error)\n",
        "\n",
        "    # Step 4: Calculate test statistics for each coefficient\n",
        "    print(\"4. Step 4\")\n",
        "\n",
        "    t_statistic = coef / std_error\n",
        "    print(f\"t-statistic for coefficient =: {t_statistic}\")\n",
        "\n",
        "        # Step 5: Construct Acceptance / Rejection regions\n",
        "        # Degrees of freedom\n",
        "    df = n-p-1\n",
        "\n",
        "        # Calculate p-value\n",
        "    p_value = 2 * (1 - t.cdf(abs(t_statistic), df))\n",
        "    print(f\"p-value for coefficient :\", p_value)\n",
        "\n",
        "        # Step 6: Based on steps 5 and 6, draw a conclusion about H0\n",
        "    if p_value < alpha:\n",
        "        print(f\"Reject the Null Hypothesis for coefficient {coef}\")\n",
        "    else:\n",
        "        print(f\"Fail to reject Null Hypothesis for coefficient {coef}\")\n",
        "\n",
        "# Example usage\n",
        "# x = Independent variables (matrix where each column represents a different variable)\n",
        "# y = Dependent variable\n",
        "# num_predictors = Number of predictors\n",
        "# res_square = Array of squared residuals\n",
        "\n",
        "#hypothesis_testing_regression(x, y, num_predictors,c res_square)\n",
        "# def hypothesis_testing_regression(data['ConstArea'], data['SalePrice'], 4, 62.5696 , results['Res_Sqr']):\n",
        "\n"
      ],
      "metadata": {
        "id": "USeDZgMvGOtv"
      },
      "execution_count": null,
      "outputs": []
    },
    {
      "cell_type": "code",
      "source": [
        "summary = model.summary()\n",
        "# Extract coefficients and standard errors from the summary table\n",
        "coef_data = summary.tables[1].data  # Extract table data for coefficients and standard errors\n",
        "\n",
        "# Coefficients are typically in the first column and standard errors in the second column\n",
        "coefficients = [float(row[1]) for row in coef_data[1:]]  # Skip the first row as it contains headers\n",
        "std_errors = [float(row[2]) for row in coef_data[1:]]\n"
      ],
      "metadata": {
        "id": "myaDkBaBXLOu"
      },
      "execution_count": null,
      "outputs": []
    },
    {
      "cell_type": "code",
      "source": [
        "hypothesis_testing_regression1(62.5696,data['ConstArea'],4)\n"
      ],
      "metadata": {
        "colab": {
          "base_uri": "https://localhost:8080/"
        },
        "id": "7Um2YX0zUvNZ",
        "outputId": "6cc75867-17a2-4d82-c3b0-b179c39fef1b"
      },
      "execution_count": null,
      "outputs": [
        {
          "output_type": "stream",
          "name": "stdout",
          "text": [
            "1. Step 1\n",
            "Null Hypothesis: β = 0 (No effect on dependent variable) for all i\n",
            "Alternative Hypothesis: β ≠ 0\n",
            "2. Step 2\n",
            "Alpha = 0.05\n",
            "3. Step 3: Data Collection\n",
            "Coefficient = 62.5696\n",
            "Standard error = 1.28\n",
            "4. Step 4\n",
            "t-statistic for coefficient =: 48.8825\n",
            "p-value for coefficient : 0.0\n",
            "Reject the Null Hypothesis for coefficient 62.5696\n"
          ]
        }
      ]
    },
    {
      "cell_type": "code",
      "source": [
        "hypothesis_testing_regression1(1.6739,data['LotArea'],4)\n",
        "\"\"\"    b00 = -48777.5733\n",
        "b1 = 62.5696\n",
        "b2 = 1.6739\n",
        "b3 = -783.1308\n",
        "\n",
        "b4 = 2419.8918                   \"\"\""
      ],
      "metadata": {
        "colab": {
          "base_uri": "https://localhost:8080/"
        },
        "id": "PKCjdSX4xwJV",
        "outputId": "8d5d7eef-5a30-4762-e27e-33086a12d0d0"
      },
      "execution_count": null,
      "outputs": [
        {
          "output_type": "stream",
          "name": "stdout",
          "text": [
            "1. Step 1\n",
            "Null Hypothesis: β = 0 (No effect on dependent variable) for all i\n",
            "Alternative Hypothesis: β ≠ 0\n",
            "2. Step 2\n",
            "Alpha = 0.05\n",
            "3. Step 3: Data Collection\n",
            "Coefficient = 1.6739\n",
            "Standard error = 0.218\n",
            "4. Step 4\n",
            "t-statistic for coefficient =: 7.678440366972477\n",
            "p-value for coefficient : 2.4868995751603507e-14\n",
            "Reject the Null Hypothesis for coefficient 1.6739\n"
          ]
        },
        {
          "output_type": "execute_result",
          "data": {
            "text/plain": [
              "'    b00 = -48777.5733\\nb1 = 62.5696\\nb2 = 1.6739\\nb3 = -783.1308\\n\\nb4 = 2419.8918                   '"
            ],
            "application/vnd.google.colaboratory.intrinsic+json": {
              "type": "string"
            }
          },
          "metadata": {},
          "execution_count": 23
        }
      ]
    },
    {
      "cell_type": "code",
      "source": [
        "hypothesis_testing_regression1(-783.1308,data['HouseAge'],4)\n"
      ],
      "metadata": {
        "colab": {
          "base_uri": "https://localhost:8080/"
        },
        "id": "d2ZvRSAPyiy_",
        "outputId": "4f37a6f3-9cc8-4ce2-d0fe-f0ea85100982"
      },
      "execution_count": null,
      "outputs": [
        {
          "output_type": "stream",
          "name": "stdout",
          "text": [
            "1. Step 1\n",
            "Null Hypothesis: β = 0 (No effect on dependent variable) for all i\n",
            "Alternative Hypothesis: β ≠ 0\n",
            "2. Step 2\n",
            "Alpha = 0.05\n",
            "3. Step 3: Data Collection\n",
            "Coefficient = -783.1308\n",
            "Standard error = 27.397\n",
            "4. Step 4\n",
            "t-statistic for coefficient =: -28.584545753184656\n",
            "p-value for coefficient : 0.0\n",
            "Reject the Null Hypothesis for coefficient -783.1308\n"
          ]
        }
      ]
    },
    {
      "cell_type": "code",
      "source": [
        "hypothesis_testing_regression1(2419.8918 ,data['QIndex'],4)\n"
      ],
      "metadata": {
        "colab": {
          "base_uri": "https://localhost:8080/"
        },
        "id": "9WRPR_qjyjjt",
        "outputId": "556dbc50-04e8-4041-fff4-6c38829eeae4"
      },
      "execution_count": null,
      "outputs": [
        {
          "output_type": "stream",
          "name": "stdout",
          "text": [
            "1. Step 1\n",
            "Null Hypothesis: β = 0 (No effect on dependent variable) for all i\n",
            "Alternative Hypothesis: β ≠ 0\n",
            "2. Step 2\n",
            "Alpha = 0.05\n",
            "3. Step 3: Data Collection\n",
            "Coefficient = 2419.8918\n",
            "Standard error = 95.23\n",
            "4. Step 4\n",
            "t-statistic for coefficient =: 25.411023837026146\n",
            "p-value for coefficient : 0.0\n",
            "Reject the Null Hypothesis for coefficient 2419.8918\n"
          ]
        }
      ]
    },
    {
      "cell_type": "markdown",
      "source": [
        "## Omnibus test"
      ],
      "metadata": {
        "id": "B3di4_gkVzhp"
      }
    },
    {
      "cell_type": "code",
      "source": [
        "# omnibus_test_regression(x, y, res_square, k)\n",
        "omnibus_test_regression(X, y, res_square, 4)"
      ],
      "metadata": {
        "colab": {
          "base_uri": "https://localhost:8080/"
        },
        "id": "2MTGuBa5V3YE",
        "outputId": "528ecb86-8b96-46d7-8196-cb4df2718220"
      },
      "execution_count": null,
      "outputs": [
        {
          "output_type": "stream",
          "name": "stdout",
          "text": [
            "1. Step 1\n",
            "Null Hypothesis :       β1 = β2 = ... = βk = 0 (No effect of independent variables on dependent variable)\n",
            "Alternate Hypothesis :  At least one βi ≠ 0 (At least one independent variable has an effect)\n",
            "2. Step 2\n",
            "Alpha = 0.05\n",
            "3. Step 3: Data Collection\n",
            "Sum of Squared Residuals = 1938058502786.1006\n",
            "Mean Squared Error (MSE) = 957065927.3017781\n",
            "Root Mean Squared Error (RMSE) = 30936.482141668566\n",
            "4. Step 4\n",
            "The value of F-statistic = 2562.3481860895613\n",
            "5. Step 5\n",
            "p-value: 1.1102230246251565e-16\n",
            "6. Step 6\n",
            "Reject the Null Hypothesis\n"
          ]
        }
      ]
    },
    {
      "cell_type": "markdown",
      "source": [
        "# **Model 4**"
      ],
      "metadata": {
        "id": "HdxcBzrsdXvX"
      }
    },
    {
      "cell_type": "code",
      "source": [
        "# Assuming 'target_column' is the column you want to predict, and 'feature_columns' are the predictor variables\n",
        "X1 = data[['ConstArea','LotArea','HouseAge','QIndex','GarageCars','Price_sqft','TotalFullBath','TotRmsAbvGrd','Fireplaces','TotalHalfBath']]  # Add all your predictor variables here\n",
        "y1 = data['SalePrice']\n",
        "\n",
        "# Fit the multiple linear regression model\n",
        "model1 = sm.OLS(y1, sm.add_constant(X1)).fit()\n",
        "\n",
        "# Get the summary of the regression model\n",
        "print(model1.summary())\n",
        "\n",
        "\n",
        "\n",
        "# Print the regression equation\n",
        "# print(\"Regression Equation:\")\n",
        "print(\"SalePrice = {:.4f} + {:.4f}*ConstArea + {:.4f}*LotArea + {:.4f}*HouseAge + {:.4f}*QIndex + {:.4f}*GarageCars + {:.4f}*Price_sqft + {:.4f}*TotalFullBath + {:.4f}*TotRmsAbvGrd + {:.4f}*Fireplaces + {:.4f}*TotalHalfBath\".format(model1.params['const'], model1.params['ConstArea'], model1.params['LotArea'], model1.params['HouseAge'], model1.params['QIndex'], model1.params['GarageCars'], model1.params['Price_sqft'], model1.params['TotalFullBath'], model1.params['TotRmsAbvGrd'], model1.params['Fireplaces'], model1.params['TotalHalfBath']))\n"
      ],
      "metadata": {
        "colab": {
          "base_uri": "https://localhost:8080/"
        },
        "id": "XP6rqgbLdbP1",
        "outputId": "ebdb941c-3255-4f02-f98f-31a1644a490a"
      },
      "execution_count": null,
      "outputs": [
        {
          "output_type": "stream",
          "name": "stdout",
          "text": [
            "                            OLS Regression Results                            \n",
            "==============================================================================\n",
            "Dep. Variable:              SalePrice   R-squared:                       0.978\n",
            "Model:                            OLS   Adj. R-squared:                  0.978\n",
            "Method:                 Least Squares   F-statistic:                     9169.\n",
            "Date:                Thu, 25 Apr 2024   Prob (F-statistic):               0.00\n",
            "Time:                        09:23:05   Log-Likelihood:                -21801.\n",
            "No. Observations:                2030   AIC:                         4.362e+04\n",
            "Df Residuals:                    2019   BIC:                         4.369e+04\n",
            "Df Model:                          10                                         \n",
            "Covariance Type:            nonrobust                                         \n",
            "=================================================================================\n",
            "                    coef    std err          t      P>|t|      [0.025      0.975]\n",
            "---------------------------------------------------------------------------------\n",
            "const         -2.247e+05   2244.038   -100.135      0.000   -2.29e+05    -2.2e+05\n",
            "ConstArea        83.0303      0.681    121.839      0.000      81.694      84.367\n",
            "LotArea          -0.3919      0.083     -4.737      0.000      -0.554      -0.230\n",
            "HouseAge         91.7465     13.618      6.737      0.000      65.040     118.453\n",
            "QIndex         -201.8215     41.266     -4.891      0.000    -282.750    -120.893\n",
            "GarageCars    -2295.4529    525.807     -4.366      0.000   -3326.635   -1264.271\n",
            "Price_sqft     3056.1013     27.530    111.009      0.000    3002.111    3110.092\n",
            "TotalFullBath -2579.0512    479.572     -5.378      0.000   -3519.558   -1638.544\n",
            "TotRmsAbvGrd   -470.2872    257.925     -1.823      0.068    -976.113      35.539\n",
            "Fireplaces    -1297.9476    477.397     -2.719      0.007   -2234.189    -361.706\n",
            "TotalHalfBath  -485.4666    531.261     -0.914      0.361   -1527.344     556.411\n",
            "==============================================================================\n",
            "Omnibus:                      335.946   Durbin-Watson:                   1.646\n",
            "Prob(Omnibus):                  0.000   Jarque-Bera (JB):             6095.639\n",
            "Skew:                           0.117   Prob(JB):                         0.00\n",
            "Kurtosis:                      11.486   Cond. No.                     9.48e+04\n",
            "==============================================================================\n",
            "\n",
            "Notes:\n",
            "[1] Standard Errors assume that the covariance matrix of the errors is correctly specified.\n",
            "[2] The condition number is large, 9.48e+04. This might indicate that there are\n",
            "strong multicollinearity or other numerical problems.\n",
            "SalePrice = -224707.4746 + 83.0303*ConstArea + -0.3919*LotArea + 91.7465*HouseAge + -201.8215*QIndex + -2295.4529*GarageCars + 3056.1013*Price_sqft + -2579.0512*TotalFullBath + -470.2872*TotRmsAbvGrd + -1297.9476*Fireplaces + -485.4666*TotalHalfBath\n"
          ]
        }
      ]
    },
    {
      "cell_type": "code",
      "source": [
        "# Coefficients from the provided regression equation\n",
        "b0 = -224707.4746\n",
        "b1 = 83.0303\n",
        "b2 = -0.3919\n",
        "b3 = 91.7465\n",
        "b4 = -201.8215\n",
        "b5 = -2295.4529\n",
        "b6 = 3056.1013\n",
        "b7 = -2579.0512\n",
        "b8 = -470.2872\n",
        "b9 = -1297.9476\n",
        "b10 = -485.4666\n",
        "\n",
        "# Extract the required features from the dataset\n",
        "ConstArea = data['ConstArea']\n",
        "LotArea = data['LotArea']\n",
        "HouseAge = data['HouseAge']\n",
        "QIndex = data['QIndex']\n",
        "GarageCars = data['GarageCars']\n",
        "Price_sqft = data['Price_sqft']\n",
        "TotalFullBath = data['TotalFullBath']\n",
        "TotRmsAbvGrd = data['TotRmsAbvGrd']\n",
        "Fireplaces = data['Fireplaces']\n",
        "TotalHalfBath = data['TotalHalfBath']\n",
        "\n",
        "# Calculate the predicted values using the regression equation\n",
        "predicted_values1 = b0 + b1 * ConstArea + b2 * LotArea + b3 * HouseAge + b4 * QIndex + b5 * GarageCars + b6 * Price_sqft + b7 * TotalFullBath + b8 * TotRmsAbvGrd + b9 * Fireplaces + b10 * TotalHalfBath\n",
        "\n",
        "# Extract the actual values\n",
        "actual_values1 = data['SalePrice']\n",
        "\n",
        "# Calculate the residuals\n",
        "residuals1 = actual_values1 - predicted_values1\n",
        "res_square1 = residuals1 ** 2\n",
        "sum_res_square2 = np.sum(res_square1)\n",
        "\n",
        "# Create a DataFrame to hold actual, predicted, and residual values\n",
        "results1 = pd.DataFrame({'Actual': actual_values1, 'Predicted': predicted_values1, 'Residual': residuals1, 'Res_Sqr': res_square1})\n",
        "\n",
        "# Print the actual, predicted, and residual values\n",
        "results1\n"
      ],
      "metadata": {
        "colab": {
          "base_uri": "https://localhost:8080/"
        },
        "id": "9qhsRX1RfBQq",
        "outputId": "bf17a1b9-f834-4f02-8d9f-e35a8909abd1"
      },
      "execution_count": null,
      "outputs": [
        {
          "output_type": "execute_result",
          "data": {
            "text/plain": [
              "        Actual      Predicted      Residual       Res_Sqr\n",
              "0     215000.0  213062.688574   1937.311426  3.753176e+06\n",
              "1     172000.0  177480.633538  -5480.633538  3.003734e+07\n",
              "2     244000.0  275628.156588 -31628.156588  1.000340e+09\n",
              "3     189900.0  190940.662805  -1040.662805  1.082979e+06\n",
              "4     195500.0  196613.039673  -1113.039673  1.238857e+06\n",
              "...        ...            ...           ...           ...\n",
              "2025  131000.0  117071.688687  13928.311313  1.939979e+08\n",
              "2026  142500.0  138018.844335   4481.155665  2.008076e+07\n",
              "2027  132000.0  132165.688755   -165.688755  2.745276e+04\n",
              "2028  170000.0  173067.889385  -3067.889385  9.411945e+06\n",
              "2029  188000.0  188118.351436   -118.351436  1.400706e+04\n",
              "\n",
              "[2030 rows x 4 columns]"
            ],
            "text/html": [
              "\n",
              "  <div id=\"df-7faacc9c-5faf-48e2-a8ae-c832ffb942fb\" class=\"colab-df-container\">\n",
              "    <div>\n",
              "<style scoped>\n",
              "    .dataframe tbody tr th:only-of-type {\n",
              "        vertical-align: middle;\n",
              "    }\n",
              "\n",
              "    .dataframe tbody tr th {\n",
              "        vertical-align: top;\n",
              "    }\n",
              "\n",
              "    .dataframe thead th {\n",
              "        text-align: right;\n",
              "    }\n",
              "</style>\n",
              "<table border=\"1\" class=\"dataframe\">\n",
              "  <thead>\n",
              "    <tr style=\"text-align: right;\">\n",
              "      <th></th>\n",
              "      <th>Actual</th>\n",
              "      <th>Predicted</th>\n",
              "      <th>Residual</th>\n",
              "      <th>Res_Sqr</th>\n",
              "    </tr>\n",
              "  </thead>\n",
              "  <tbody>\n",
              "    <tr>\n",
              "      <th>0</th>\n",
              "      <td>215000.0</td>\n",
              "      <td>213062.688574</td>\n",
              "      <td>1937.311426</td>\n",
              "      <td>3.753176e+06</td>\n",
              "    </tr>\n",
              "    <tr>\n",
              "      <th>1</th>\n",
              "      <td>172000.0</td>\n",
              "      <td>177480.633538</td>\n",
              "      <td>-5480.633538</td>\n",
              "      <td>3.003734e+07</td>\n",
              "    </tr>\n",
              "    <tr>\n",
              "      <th>2</th>\n",
              "      <td>244000.0</td>\n",
              "      <td>275628.156588</td>\n",
              "      <td>-31628.156588</td>\n",
              "      <td>1.000340e+09</td>\n",
              "    </tr>\n",
              "    <tr>\n",
              "      <th>3</th>\n",
              "      <td>189900.0</td>\n",
              "      <td>190940.662805</td>\n",
              "      <td>-1040.662805</td>\n",
              "      <td>1.082979e+06</td>\n",
              "    </tr>\n",
              "    <tr>\n",
              "      <th>4</th>\n",
              "      <td>195500.0</td>\n",
              "      <td>196613.039673</td>\n",
              "      <td>-1113.039673</td>\n",
              "      <td>1.238857e+06</td>\n",
              "    </tr>\n",
              "    <tr>\n",
              "      <th>...</th>\n",
              "      <td>...</td>\n",
              "      <td>...</td>\n",
              "      <td>...</td>\n",
              "      <td>...</td>\n",
              "    </tr>\n",
              "    <tr>\n",
              "      <th>2025</th>\n",
              "      <td>131000.0</td>\n",
              "      <td>117071.688687</td>\n",
              "      <td>13928.311313</td>\n",
              "      <td>1.939979e+08</td>\n",
              "    </tr>\n",
              "    <tr>\n",
              "      <th>2026</th>\n",
              "      <td>142500.0</td>\n",
              "      <td>138018.844335</td>\n",
              "      <td>4481.155665</td>\n",
              "      <td>2.008076e+07</td>\n",
              "    </tr>\n",
              "    <tr>\n",
              "      <th>2027</th>\n",
              "      <td>132000.0</td>\n",
              "      <td>132165.688755</td>\n",
              "      <td>-165.688755</td>\n",
              "      <td>2.745276e+04</td>\n",
              "    </tr>\n",
              "    <tr>\n",
              "      <th>2028</th>\n",
              "      <td>170000.0</td>\n",
              "      <td>173067.889385</td>\n",
              "      <td>-3067.889385</td>\n",
              "      <td>9.411945e+06</td>\n",
              "    </tr>\n",
              "    <tr>\n",
              "      <th>2029</th>\n",
              "      <td>188000.0</td>\n",
              "      <td>188118.351436</td>\n",
              "      <td>-118.351436</td>\n",
              "      <td>1.400706e+04</td>\n",
              "    </tr>\n",
              "  </tbody>\n",
              "</table>\n",
              "<p>2030 rows × 4 columns</p>\n",
              "</div>\n",
              "    <div class=\"colab-df-buttons\">\n",
              "\n",
              "  <div class=\"colab-df-container\">\n",
              "    <button class=\"colab-df-convert\" onclick=\"convertToInteractive('df-7faacc9c-5faf-48e2-a8ae-c832ffb942fb')\"\n",
              "            title=\"Convert this dataframe to an interactive table.\"\n",
              "            style=\"display:none;\">\n",
              "\n",
              "  <svg xmlns=\"http://www.w3.org/2000/svg\" height=\"24px\" viewBox=\"0 -960 960 960\">\n",
              "    <path d=\"M120-120v-720h720v720H120Zm60-500h600v-160H180v160Zm220 220h160v-160H400v160Zm0 220h160v-160H400v160ZM180-400h160v-160H180v160Zm440 0h160v-160H620v160ZM180-180h160v-160H180v160Zm440 0h160v-160H620v160Z\"/>\n",
              "  </svg>\n",
              "    </button>\n",
              "\n",
              "  <style>\n",
              "    .colab-df-container {\n",
              "      display:flex;\n",
              "      gap: 12px;\n",
              "    }\n",
              "\n",
              "    .colab-df-convert {\n",
              "      background-color: #E8F0FE;\n",
              "      border: none;\n",
              "      border-radius: 50%;\n",
              "      cursor: pointer;\n",
              "      display: none;\n",
              "      fill: #1967D2;\n",
              "      height: 32px;\n",
              "      padding: 0 0 0 0;\n",
              "      width: 32px;\n",
              "    }\n",
              "\n",
              "    .colab-df-convert:hover {\n",
              "      background-color: #E2EBFA;\n",
              "      box-shadow: 0px 1px 2px rgba(60, 64, 67, 0.3), 0px 1px 3px 1px rgba(60, 64, 67, 0.15);\n",
              "      fill: #174EA6;\n",
              "    }\n",
              "\n",
              "    .colab-df-buttons div {\n",
              "      margin-bottom: 4px;\n",
              "    }\n",
              "\n",
              "    [theme=dark] .colab-df-convert {\n",
              "      background-color: #3B4455;\n",
              "      fill: #D2E3FC;\n",
              "    }\n",
              "\n",
              "    [theme=dark] .colab-df-convert:hover {\n",
              "      background-color: #434B5C;\n",
              "      box-shadow: 0px 1px 3px 1px rgba(0, 0, 0, 0.15);\n",
              "      filter: drop-shadow(0px 1px 2px rgba(0, 0, 0, 0.3));\n",
              "      fill: #FFFFFF;\n",
              "    }\n",
              "  </style>\n",
              "\n",
              "    <script>\n",
              "      const buttonEl =\n",
              "        document.querySelector('#df-7faacc9c-5faf-48e2-a8ae-c832ffb942fb button.colab-df-convert');\n",
              "      buttonEl.style.display =\n",
              "        google.colab.kernel.accessAllowed ? 'block' : 'none';\n",
              "\n",
              "      async function convertToInteractive(key) {\n",
              "        const element = document.querySelector('#df-7faacc9c-5faf-48e2-a8ae-c832ffb942fb');\n",
              "        const dataTable =\n",
              "          await google.colab.kernel.invokeFunction('convertToInteractive',\n",
              "                                                    [key], {});\n",
              "        if (!dataTable) return;\n",
              "\n",
              "        const docLinkHtml = 'Like what you see? Visit the ' +\n",
              "          '<a target=\"_blank\" href=https://colab.research.google.com/notebooks/data_table.ipynb>data table notebook</a>'\n",
              "          + ' to learn more about interactive tables.';\n",
              "        element.innerHTML = '';\n",
              "        dataTable['output_type'] = 'display_data';\n",
              "        await google.colab.output.renderOutput(dataTable, element);\n",
              "        const docLink = document.createElement('div');\n",
              "        docLink.innerHTML = docLinkHtml;\n",
              "        element.appendChild(docLink);\n",
              "      }\n",
              "    </script>\n",
              "  </div>\n",
              "\n",
              "\n",
              "<div id=\"df-83c2f1f7-c90b-477d-a9c0-8ed60a5ad261\">\n",
              "  <button class=\"colab-df-quickchart\" onclick=\"quickchart('df-83c2f1f7-c90b-477d-a9c0-8ed60a5ad261')\"\n",
              "            title=\"Suggest charts\"\n",
              "            style=\"display:none;\">\n",
              "\n",
              "<svg xmlns=\"http://www.w3.org/2000/svg\" height=\"24px\"viewBox=\"0 0 24 24\"\n",
              "     width=\"24px\">\n",
              "    <g>\n",
              "        <path d=\"M19 3H5c-1.1 0-2 .9-2 2v14c0 1.1.9 2 2 2h14c1.1 0 2-.9 2-2V5c0-1.1-.9-2-2-2zM9 17H7v-7h2v7zm4 0h-2V7h2v10zm4 0h-2v-4h2v4z\"/>\n",
              "    </g>\n",
              "</svg>\n",
              "  </button>\n",
              "\n",
              "<style>\n",
              "  .colab-df-quickchart {\n",
              "      --bg-color: #E8F0FE;\n",
              "      --fill-color: #1967D2;\n",
              "      --hover-bg-color: #E2EBFA;\n",
              "      --hover-fill-color: #174EA6;\n",
              "      --disabled-fill-color: #AAA;\n",
              "      --disabled-bg-color: #DDD;\n",
              "  }\n",
              "\n",
              "  [theme=dark] .colab-df-quickchart {\n",
              "      --bg-color: #3B4455;\n",
              "      --fill-color: #D2E3FC;\n",
              "      --hover-bg-color: #434B5C;\n",
              "      --hover-fill-color: #FFFFFF;\n",
              "      --disabled-bg-color: #3B4455;\n",
              "      --disabled-fill-color: #666;\n",
              "  }\n",
              "\n",
              "  .colab-df-quickchart {\n",
              "    background-color: var(--bg-color);\n",
              "    border: none;\n",
              "    border-radius: 50%;\n",
              "    cursor: pointer;\n",
              "    display: none;\n",
              "    fill: var(--fill-color);\n",
              "    height: 32px;\n",
              "    padding: 0;\n",
              "    width: 32px;\n",
              "  }\n",
              "\n",
              "  .colab-df-quickchart:hover {\n",
              "    background-color: var(--hover-bg-color);\n",
              "    box-shadow: 0 1px 2px rgba(60, 64, 67, 0.3), 0 1px 3px 1px rgba(60, 64, 67, 0.15);\n",
              "    fill: var(--button-hover-fill-color);\n",
              "  }\n",
              "\n",
              "  .colab-df-quickchart-complete:disabled,\n",
              "  .colab-df-quickchart-complete:disabled:hover {\n",
              "    background-color: var(--disabled-bg-color);\n",
              "    fill: var(--disabled-fill-color);\n",
              "    box-shadow: none;\n",
              "  }\n",
              "\n",
              "  .colab-df-spinner {\n",
              "    border: 2px solid var(--fill-color);\n",
              "    border-color: transparent;\n",
              "    border-bottom-color: var(--fill-color);\n",
              "    animation:\n",
              "      spin 1s steps(1) infinite;\n",
              "  }\n",
              "\n",
              "  @keyframes spin {\n",
              "    0% {\n",
              "      border-color: transparent;\n",
              "      border-bottom-color: var(--fill-color);\n",
              "      border-left-color: var(--fill-color);\n",
              "    }\n",
              "    20% {\n",
              "      border-color: transparent;\n",
              "      border-left-color: var(--fill-color);\n",
              "      border-top-color: var(--fill-color);\n",
              "    }\n",
              "    30% {\n",
              "      border-color: transparent;\n",
              "      border-left-color: var(--fill-color);\n",
              "      border-top-color: var(--fill-color);\n",
              "      border-right-color: var(--fill-color);\n",
              "    }\n",
              "    40% {\n",
              "      border-color: transparent;\n",
              "      border-right-color: var(--fill-color);\n",
              "      border-top-color: var(--fill-color);\n",
              "    }\n",
              "    60% {\n",
              "      border-color: transparent;\n",
              "      border-right-color: var(--fill-color);\n",
              "    }\n",
              "    80% {\n",
              "      border-color: transparent;\n",
              "      border-right-color: var(--fill-color);\n",
              "      border-bottom-color: var(--fill-color);\n",
              "    }\n",
              "    90% {\n",
              "      border-color: transparent;\n",
              "      border-bottom-color: var(--fill-color);\n",
              "    }\n",
              "  }\n",
              "</style>\n",
              "\n",
              "  <script>\n",
              "    async function quickchart(key) {\n",
              "      const quickchartButtonEl =\n",
              "        document.querySelector('#' + key + ' button');\n",
              "      quickchartButtonEl.disabled = true;  // To prevent multiple clicks.\n",
              "      quickchartButtonEl.classList.add('colab-df-spinner');\n",
              "      try {\n",
              "        const charts = await google.colab.kernel.invokeFunction(\n",
              "            'suggestCharts', [key], {});\n",
              "      } catch (error) {\n",
              "        console.error('Error during call to suggestCharts:', error);\n",
              "      }\n",
              "      quickchartButtonEl.classList.remove('colab-df-spinner');\n",
              "      quickchartButtonEl.classList.add('colab-df-quickchart-complete');\n",
              "    }\n",
              "    (() => {\n",
              "      let quickchartButtonEl =\n",
              "        document.querySelector('#df-83c2f1f7-c90b-477d-a9c0-8ed60a5ad261 button');\n",
              "      quickchartButtonEl.style.display =\n",
              "        google.colab.kernel.accessAllowed ? 'block' : 'none';\n",
              "    })();\n",
              "  </script>\n",
              "</div>\n",
              "\n",
              "  <div id=\"id_d2467827-f0d6-4df8-a3a6-3c940e96457f\">\n",
              "    <style>\n",
              "      .colab-df-generate {\n",
              "        background-color: #E8F0FE;\n",
              "        border: none;\n",
              "        border-radius: 50%;\n",
              "        cursor: pointer;\n",
              "        display: none;\n",
              "        fill: #1967D2;\n",
              "        height: 32px;\n",
              "        padding: 0 0 0 0;\n",
              "        width: 32px;\n",
              "      }\n",
              "\n",
              "      .colab-df-generate:hover {\n",
              "        background-color: #E2EBFA;\n",
              "        box-shadow: 0px 1px 2px rgba(60, 64, 67, 0.3), 0px 1px 3px 1px rgba(60, 64, 67, 0.15);\n",
              "        fill: #174EA6;\n",
              "      }\n",
              "\n",
              "      [theme=dark] .colab-df-generate {\n",
              "        background-color: #3B4455;\n",
              "        fill: #D2E3FC;\n",
              "      }\n",
              "\n",
              "      [theme=dark] .colab-df-generate:hover {\n",
              "        background-color: #434B5C;\n",
              "        box-shadow: 0px 1px 3px 1px rgba(0, 0, 0, 0.15);\n",
              "        filter: drop-shadow(0px 1px 2px rgba(0, 0, 0, 0.3));\n",
              "        fill: #FFFFFF;\n",
              "      }\n",
              "    </style>\n",
              "    <button class=\"colab-df-generate\" onclick=\"generateWithVariable('results1')\"\n",
              "            title=\"Generate code using this dataframe.\"\n",
              "            style=\"display:none;\">\n",
              "\n",
              "  <svg xmlns=\"http://www.w3.org/2000/svg\" height=\"24px\"viewBox=\"0 0 24 24\"\n",
              "       width=\"24px\">\n",
              "    <path d=\"M7,19H8.4L18.45,9,17,7.55,7,17.6ZM5,21V16.75L18.45,3.32a2,2,0,0,1,2.83,0l1.4,1.43a1.91,1.91,0,0,1,.58,1.4,1.91,1.91,0,0,1-.58,1.4L9.25,21ZM18.45,9,17,7.55Zm-12,3A5.31,5.31,0,0,0,4.9,8.1,5.31,5.31,0,0,0,1,6.5,5.31,5.31,0,0,0,4.9,4.9,5.31,5.31,0,0,0,6.5,1,5.31,5.31,0,0,0,8.1,4.9,5.31,5.31,0,0,0,12,6.5,5.46,5.46,0,0,0,6.5,12Z\"/>\n",
              "  </svg>\n",
              "    </button>\n",
              "    <script>\n",
              "      (() => {\n",
              "      const buttonEl =\n",
              "        document.querySelector('#id_d2467827-f0d6-4df8-a3a6-3c940e96457f button.colab-df-generate');\n",
              "      buttonEl.style.display =\n",
              "        google.colab.kernel.accessAllowed ? 'block' : 'none';\n",
              "\n",
              "      buttonEl.onclick = () => {\n",
              "        google.colab.notebook.generateWithVariable('results1');\n",
              "      }\n",
              "      })();\n",
              "    </script>\n",
              "  </div>\n",
              "\n",
              "    </div>\n",
              "  </div>\n"
            ],
            "application/vnd.google.colaboratory.intrinsic+json": {
              "type": "dataframe",
              "variable_name": "results1",
              "summary": "{\n  \"name\": \"results1\",\n  \"rows\": 2030,\n  \"fields\": [\n    {\n      \"column\": \"Actual\",\n      \"properties\": {\n        \"dtype\": \"number\",\n        \"std\": 76090.40780320266,\n        \"min\": 61500.0,\n        \"max\": 584500.0,\n        \"num_unique_values\": 822,\n        \"samples\": [\n          255000.0,\n          169900.0,\n          260000.0\n        ],\n        \"semantic_type\": \"\",\n        \"description\": \"\"\n      }\n    },\n    {\n      \"column\": \"Predicted\",\n      \"properties\": {\n        \"dtype\": \"number\",\n        \"std\": 75266.16220052305,\n        \"min\": 16320.128499710656,\n        \"max\": 512335.81826386385,\n        \"num_unique_values\": 2030,\n        \"samples\": [\n          148912.3021251046,\n          122972.53161442307,\n          207175.8503188133\n        ],\n        \"semantic_type\": \"\",\n        \"description\": \"\"\n      }\n    },\n    {\n      \"column\": \"Residual\",\n      \"properties\": {\n        \"dtype\": \"number\",\n        \"std\": 11169.008870811118,\n        \"min\": -75618.80745079365,\n        \"max\": 74815.57292464888,\n        \"num_unique_values\": 2030,\n        \"samples\": [\n          1837.6978748954134,\n          6527.468385576925,\n          -2175.850318813289\n        ],\n        \"semantic_type\": \"\",\n        \"description\": \"\"\n      }\n    },\n    {\n      \"column\": \"Res_Sqr\",\n      \"properties\": {\n        \"dtype\": \"number\",\n        \"std\": 403857721.33145547,\n        \"min\": 4.822015724804347,\n        \"max\": 5718204040.280206,\n        \"num_unique_values\": 2030,\n        \"samples\": [\n          3377133.4793951185,\n          42607843.52470623,\n          4734324.609879891\n        ],\n        \"semantic_type\": \"\",\n        \"description\": \"\"\n      }\n    }\n  ]\n}"
            }
          },
          "metadata": {},
          "execution_count": 28
        }
      ]
    },
    {
      "cell_type": "code",
      "source": [
        "from scipy.stats import t\n",
        "\n",
        "\n",
        "def hypothesis_testing_regression2(coef,x,p):\n",
        "    n = len(x)\n",
        "    summary = model1.summary()\n",
        "# Extract coefficients and standard errors from the summary table\n",
        "    coef_data = summary.tables[1].data  # Extract table data for coefficients and standard errors\n",
        "\n",
        "# Coefficients are typically in the first column and standard errors in the second column\n",
        "    coefficients = [float(row[1]) for row in coef_data[1:]]  # Skip the first row as it contains headers\n",
        "    std_errors = [float(row[2]) for row in coef_data[1:]]\n",
        "\n",
        "    for i in range(len(coefficients)):\n",
        "      if coefficients[i] == coef:\n",
        "        std_error = std_errors[i]\n",
        "\n",
        "    # Step 1: State the Null Hypothesis and Alternative Hypothesis\n",
        "    print(\"1. Step 1\")\n",
        "    print(\"Null Hypothesis: β = 0 (No effect on dependent variable) for all i\")\n",
        "    print(\"Alternative Hypothesis: β ≠ 0\")\n",
        "\n",
        "    # Step 2: Set α\n",
        "    print(\"2. Step 2\")\n",
        "    alpha = 0.05\n",
        "    print(\"Alpha =\", alpha)\n",
        "\n",
        "    # Step 3: Collect Data\n",
        "    print(\"3. Step 3: Data Collection\")\n",
        "    # sum_of_residual_sq = np.sum(res_square)\n",
        "    # print(\"Sum of Squared Residuals =\", sum_of_residual_sq)\n",
        "\n",
        "    # df_residual = n - num_predictors - 1\n",
        "    # Mse = sum_of_residual_sq / df_residual\n",
        "    print(\"Coefficient =\", coef)\n",
        "    print(\"Standard error =\", std_error)\n",
        "\n",
        "    # Step 4: Calculate test statistics for each coefficient\n",
        "    print(\"4. Step 4\")\n",
        "\n",
        "    t_statistic = coef / std_error\n",
        "    print(f\"t-statistic for coefficient =: {t_statistic}\")\n",
        "\n",
        "        # Step 5: Construct Acceptance / Rejection regions\n",
        "        # Degrees of freedom\n",
        "    df = n-p-1\n",
        "\n",
        "        # Calculate p-value\n",
        "    p_value = 2 * (1 - t.cdf(abs(t_statistic), df))\n",
        "    print(f\"p-value for coefficient :\", p_value)\n",
        "\n",
        "        # Step 6: Based on steps 5 and 6, draw a conclusion about H0\n",
        "    if p_value < alpha:\n",
        "        print(f\"Reject the Null Hypothesis for coefficient {coef}\")\n",
        "    else:\n",
        "        print(f\"Fail to reject Null Hypothesis for coefficient {coef}\")\n",
        "\n",
        "# Example usage\n",
        "# x = Independent variables (matrix where each column represents a different variable)\n",
        "# y = Dependent variable\n",
        "# num_predictors = Number of predictors\n",
        "# res_square = Array of squared residuals\n",
        "\n",
        "#hypothesis_testing_regression(x, y, num_predictors,c res_square)\n",
        "# def hypothesis_testing_regression(data['ConstArea'], data['SalePrice'], 4, 62.5696 , results['Res_Sqr']):\n",
        "\n"
      ],
      "metadata": {
        "id": "InaTsQwshOb3"
      },
      "execution_count": null,
      "outputs": []
    },
    {
      "cell_type": "code",
      "source": [
        "anova_table = create_anova_table(actual_values1, predicted_values1, 10)\n",
        "anova_table.show()"
      ],
      "metadata": {
        "colab": {
          "base_uri": "https://localhost:8080/"
        },
        "id": "DndFlFrYgfzU",
        "outputId": "b08ce724-7196-4ac3-f3a1-f8a8430ac391"
      },
      "execution_count": null,
      "outputs": [
        {
          "output_type": "display_data",
          "data": {
            "text/html": [
              "<html>\n",
              "<head><meta charset=\"utf-8\" /></head>\n",
              "<body>\n",
              "    <div>            <script src=\"https://cdnjs.cloudflare.com/ajax/libs/mathjax/2.7.5/MathJax.js?config=TeX-AMS-MML_SVG\"></script><script type=\"text/javascript\">if (window.MathJax && window.MathJax.Hub && window.MathJax.Hub.Config) {window.MathJax.Hub.Config({SVG: {font: \"STIX-Web\"}});}</script>                <script type=\"text/javascript\">window.PlotlyConfig = {MathJaxConfig: 'local'};</script>\n",
              "        <script charset=\"utf-8\" src=\"https://cdn.plot.ly/plotly-2.24.1.min.js\"></script>                <div id=\"1b93fff3-6d13-4db6-be25-2534f5e2bc44\" class=\"plotly-graph-div\" style=\"height:525px; width:100%;\"></div>            <script type=\"text/javascript\">                                    window.PLOTLYENV=window.PLOTLYENV || {};                                    if (document.getElementById(\"1b93fff3-6d13-4db6-be25-2534f5e2bc44\")) {                    Plotly.newPlot(                        \"1b93fff3-6d13-4db6-be25-2534f5e2bc44\",                        [{\"cells\":{\"values\":[[\"Model\",\"Residual\",\"Total\"],[10,2019,2029],[11494275205063.879,253111174601.56702,11747403073945.441],[1149427520506.388,125364623.378686,null],[9168.675257248124,null,null],[1.1102230246251565e-16,null,null]]},\"header\":{\"values\":[\"Source\",\"df\",\"sum_sq\",\"mean_sq\",\"F\",\"PR(\\u003eF)\"]},\"type\":\"table\"}],                        {\"template\":{\"data\":{\"histogram2dcontour\":[{\"type\":\"histogram2dcontour\",\"colorbar\":{\"outlinewidth\":0,\"ticks\":\"\"},\"colorscale\":[[0.0,\"#0d0887\"],[0.1111111111111111,\"#46039f\"],[0.2222222222222222,\"#7201a8\"],[0.3333333333333333,\"#9c179e\"],[0.4444444444444444,\"#bd3786\"],[0.5555555555555556,\"#d8576b\"],[0.6666666666666666,\"#ed7953\"],[0.7777777777777778,\"#fb9f3a\"],[0.8888888888888888,\"#fdca26\"],[1.0,\"#f0f921\"]]}],\"choropleth\":[{\"type\":\"choropleth\",\"colorbar\":{\"outlinewidth\":0,\"ticks\":\"\"}}],\"histogram2d\":[{\"type\":\"histogram2d\",\"colorbar\":{\"outlinewidth\":0,\"ticks\":\"\"},\"colorscale\":[[0.0,\"#0d0887\"],[0.1111111111111111,\"#46039f\"],[0.2222222222222222,\"#7201a8\"],[0.3333333333333333,\"#9c179e\"],[0.4444444444444444,\"#bd3786\"],[0.5555555555555556,\"#d8576b\"],[0.6666666666666666,\"#ed7953\"],[0.7777777777777778,\"#fb9f3a\"],[0.8888888888888888,\"#fdca26\"],[1.0,\"#f0f921\"]]}],\"heatmap\":[{\"type\":\"heatmap\",\"colorbar\":{\"outlinewidth\":0,\"ticks\":\"\"},\"colorscale\":[[0.0,\"#0d0887\"],[0.1111111111111111,\"#46039f\"],[0.2222222222222222,\"#7201a8\"],[0.3333333333333333,\"#9c179e\"],[0.4444444444444444,\"#bd3786\"],[0.5555555555555556,\"#d8576b\"],[0.6666666666666666,\"#ed7953\"],[0.7777777777777778,\"#fb9f3a\"],[0.8888888888888888,\"#fdca26\"],[1.0,\"#f0f921\"]]}],\"heatmapgl\":[{\"type\":\"heatmapgl\",\"colorbar\":{\"outlinewidth\":0,\"ticks\":\"\"},\"colorscale\":[[0.0,\"#0d0887\"],[0.1111111111111111,\"#46039f\"],[0.2222222222222222,\"#7201a8\"],[0.3333333333333333,\"#9c179e\"],[0.4444444444444444,\"#bd3786\"],[0.5555555555555556,\"#d8576b\"],[0.6666666666666666,\"#ed7953\"],[0.7777777777777778,\"#fb9f3a\"],[0.8888888888888888,\"#fdca26\"],[1.0,\"#f0f921\"]]}],\"contourcarpet\":[{\"type\":\"contourcarpet\",\"colorbar\":{\"outlinewidth\":0,\"ticks\":\"\"}}],\"contour\":[{\"type\":\"contour\",\"colorbar\":{\"outlinewidth\":0,\"ticks\":\"\"},\"colorscale\":[[0.0,\"#0d0887\"],[0.1111111111111111,\"#46039f\"],[0.2222222222222222,\"#7201a8\"],[0.3333333333333333,\"#9c179e\"],[0.4444444444444444,\"#bd3786\"],[0.5555555555555556,\"#d8576b\"],[0.6666666666666666,\"#ed7953\"],[0.7777777777777778,\"#fb9f3a\"],[0.8888888888888888,\"#fdca26\"],[1.0,\"#f0f921\"]]}],\"surface\":[{\"type\":\"surface\",\"colorbar\":{\"outlinewidth\":0,\"ticks\":\"\"},\"colorscale\":[[0.0,\"#0d0887\"],[0.1111111111111111,\"#46039f\"],[0.2222222222222222,\"#7201a8\"],[0.3333333333333333,\"#9c179e\"],[0.4444444444444444,\"#bd3786\"],[0.5555555555555556,\"#d8576b\"],[0.6666666666666666,\"#ed7953\"],[0.7777777777777778,\"#fb9f3a\"],[0.8888888888888888,\"#fdca26\"],[1.0,\"#f0f921\"]]}],\"mesh3d\":[{\"type\":\"mesh3d\",\"colorbar\":{\"outlinewidth\":0,\"ticks\":\"\"}}],\"scatter\":[{\"fillpattern\":{\"fillmode\":\"overlay\",\"size\":10,\"solidity\":0.2},\"type\":\"scatter\"}],\"parcoords\":[{\"type\":\"parcoords\",\"line\":{\"colorbar\":{\"outlinewidth\":0,\"ticks\":\"\"}}}],\"scatterpolargl\":[{\"type\":\"scatterpolargl\",\"marker\":{\"colorbar\":{\"outlinewidth\":0,\"ticks\":\"\"}}}],\"bar\":[{\"error_x\":{\"color\":\"#2a3f5f\"},\"error_y\":{\"color\":\"#2a3f5f\"},\"marker\":{\"line\":{\"color\":\"#E5ECF6\",\"width\":0.5},\"pattern\":{\"fillmode\":\"overlay\",\"size\":10,\"solidity\":0.2}},\"type\":\"bar\"}],\"scattergeo\":[{\"type\":\"scattergeo\",\"marker\":{\"colorbar\":{\"outlinewidth\":0,\"ticks\":\"\"}}}],\"scatterpolar\":[{\"type\":\"scatterpolar\",\"marker\":{\"colorbar\":{\"outlinewidth\":0,\"ticks\":\"\"}}}],\"histogram\":[{\"marker\":{\"pattern\":{\"fillmode\":\"overlay\",\"size\":10,\"solidity\":0.2}},\"type\":\"histogram\"}],\"scattergl\":[{\"type\":\"scattergl\",\"marker\":{\"colorbar\":{\"outlinewidth\":0,\"ticks\":\"\"}}}],\"scatter3d\":[{\"type\":\"scatter3d\",\"line\":{\"colorbar\":{\"outlinewidth\":0,\"ticks\":\"\"}},\"marker\":{\"colorbar\":{\"outlinewidth\":0,\"ticks\":\"\"}}}],\"scattermapbox\":[{\"type\":\"scattermapbox\",\"marker\":{\"colorbar\":{\"outlinewidth\":0,\"ticks\":\"\"}}}],\"scatterternary\":[{\"type\":\"scatterternary\",\"marker\":{\"colorbar\":{\"outlinewidth\":0,\"ticks\":\"\"}}}],\"scattercarpet\":[{\"type\":\"scattercarpet\",\"marker\":{\"colorbar\":{\"outlinewidth\":0,\"ticks\":\"\"}}}],\"carpet\":[{\"aaxis\":{\"endlinecolor\":\"#2a3f5f\",\"gridcolor\":\"white\",\"linecolor\":\"white\",\"minorgridcolor\":\"white\",\"startlinecolor\":\"#2a3f5f\"},\"baxis\":{\"endlinecolor\":\"#2a3f5f\",\"gridcolor\":\"white\",\"linecolor\":\"white\",\"minorgridcolor\":\"white\",\"startlinecolor\":\"#2a3f5f\"},\"type\":\"carpet\"}],\"table\":[{\"cells\":{\"fill\":{\"color\":\"#EBF0F8\"},\"line\":{\"color\":\"white\"}},\"header\":{\"fill\":{\"color\":\"#C8D4E3\"},\"line\":{\"color\":\"white\"}},\"type\":\"table\"}],\"barpolar\":[{\"marker\":{\"line\":{\"color\":\"#E5ECF6\",\"width\":0.5},\"pattern\":{\"fillmode\":\"overlay\",\"size\":10,\"solidity\":0.2}},\"type\":\"barpolar\"}],\"pie\":[{\"automargin\":true,\"type\":\"pie\"}]},\"layout\":{\"autotypenumbers\":\"strict\",\"colorway\":[\"#636efa\",\"#EF553B\",\"#00cc96\",\"#ab63fa\",\"#FFA15A\",\"#19d3f3\",\"#FF6692\",\"#B6E880\",\"#FF97FF\",\"#FECB52\"],\"font\":{\"color\":\"#2a3f5f\"},\"hovermode\":\"closest\",\"hoverlabel\":{\"align\":\"left\"},\"paper_bgcolor\":\"white\",\"plot_bgcolor\":\"#E5ECF6\",\"polar\":{\"bgcolor\":\"#E5ECF6\",\"angularaxis\":{\"gridcolor\":\"white\",\"linecolor\":\"white\",\"ticks\":\"\"},\"radialaxis\":{\"gridcolor\":\"white\",\"linecolor\":\"white\",\"ticks\":\"\"}},\"ternary\":{\"bgcolor\":\"#E5ECF6\",\"aaxis\":{\"gridcolor\":\"white\",\"linecolor\":\"white\",\"ticks\":\"\"},\"baxis\":{\"gridcolor\":\"white\",\"linecolor\":\"white\",\"ticks\":\"\"},\"caxis\":{\"gridcolor\":\"white\",\"linecolor\":\"white\",\"ticks\":\"\"}},\"coloraxis\":{\"colorbar\":{\"outlinewidth\":0,\"ticks\":\"\"}},\"colorscale\":{\"sequential\":[[0.0,\"#0d0887\"],[0.1111111111111111,\"#46039f\"],[0.2222222222222222,\"#7201a8\"],[0.3333333333333333,\"#9c179e\"],[0.4444444444444444,\"#bd3786\"],[0.5555555555555556,\"#d8576b\"],[0.6666666666666666,\"#ed7953\"],[0.7777777777777778,\"#fb9f3a\"],[0.8888888888888888,\"#fdca26\"],[1.0,\"#f0f921\"]],\"sequentialminus\":[[0.0,\"#0d0887\"],[0.1111111111111111,\"#46039f\"],[0.2222222222222222,\"#7201a8\"],[0.3333333333333333,\"#9c179e\"],[0.4444444444444444,\"#bd3786\"],[0.5555555555555556,\"#d8576b\"],[0.6666666666666666,\"#ed7953\"],[0.7777777777777778,\"#fb9f3a\"],[0.8888888888888888,\"#fdca26\"],[1.0,\"#f0f921\"]],\"diverging\":[[0,\"#8e0152\"],[0.1,\"#c51b7d\"],[0.2,\"#de77ae\"],[0.3,\"#f1b6da\"],[0.4,\"#fde0ef\"],[0.5,\"#f7f7f7\"],[0.6,\"#e6f5d0\"],[0.7,\"#b8e186\"],[0.8,\"#7fbc41\"],[0.9,\"#4d9221\"],[1,\"#276419\"]]},\"xaxis\":{\"gridcolor\":\"white\",\"linecolor\":\"white\",\"ticks\":\"\",\"title\":{\"standoff\":15},\"zerolinecolor\":\"white\",\"automargin\":true,\"zerolinewidth\":2},\"yaxis\":{\"gridcolor\":\"white\",\"linecolor\":\"white\",\"ticks\":\"\",\"title\":{\"standoff\":15},\"zerolinecolor\":\"white\",\"automargin\":true,\"zerolinewidth\":2},\"scene\":{\"xaxis\":{\"backgroundcolor\":\"#E5ECF6\",\"gridcolor\":\"white\",\"linecolor\":\"white\",\"showbackground\":true,\"ticks\":\"\",\"zerolinecolor\":\"white\",\"gridwidth\":2},\"yaxis\":{\"backgroundcolor\":\"#E5ECF6\",\"gridcolor\":\"white\",\"linecolor\":\"white\",\"showbackground\":true,\"ticks\":\"\",\"zerolinecolor\":\"white\",\"gridwidth\":2},\"zaxis\":{\"backgroundcolor\":\"#E5ECF6\",\"gridcolor\":\"white\",\"linecolor\":\"white\",\"showbackground\":true,\"ticks\":\"\",\"zerolinecolor\":\"white\",\"gridwidth\":2}},\"shapedefaults\":{\"line\":{\"color\":\"#2a3f5f\"}},\"annotationdefaults\":{\"arrowcolor\":\"#2a3f5f\",\"arrowhead\":0,\"arrowwidth\":1},\"geo\":{\"bgcolor\":\"white\",\"landcolor\":\"#E5ECF6\",\"subunitcolor\":\"white\",\"showland\":true,\"showlakes\":true,\"lakecolor\":\"white\"},\"title\":{\"x\":0.05},\"mapbox\":{\"style\":\"light\"}}},\"title\":{\"text\":\"ANOVA Table\"}},                        {\"responsive\": true}                    ).then(function(){\n",
              "                            \n",
              "var gd = document.getElementById('1b93fff3-6d13-4db6-be25-2534f5e2bc44');\n",
              "var x = new MutationObserver(function (mutations, observer) {{\n",
              "        var display = window.getComputedStyle(gd).display;\n",
              "        if (!display || display === 'none') {{\n",
              "            console.log([gd, 'removed!']);\n",
              "            Plotly.purge(gd);\n",
              "            observer.disconnect();\n",
              "        }}\n",
              "}});\n",
              "\n",
              "// Listen for the removal of the full notebook cells\n",
              "var notebookContainer = gd.closest('#notebook-container');\n",
              "if (notebookContainer) {{\n",
              "    x.observe(notebookContainer, {childList: true});\n",
              "}}\n",
              "\n",
              "// Listen for the clearing of the current output cell\n",
              "var outputEl = gd.closest('.output');\n",
              "if (outputEl) {{\n",
              "    x.observe(outputEl, {childList: true});\n",
              "}}\n",
              "\n",
              "                        })                };                            </script>        </div>\n",
              "</body>\n",
              "</html>"
            ]
          },
          "metadata": {}
        }
      ]
    },
    {
      "cell_type": "markdown",
      "source": [
        "## Hypothesis testing for coefficients of model 4"
      ],
      "metadata": {
        "id": "xb1EUwNxyKbT"
      }
    },
    {
      "cell_type": "code",
      "source": [
        "hypothesis_testing_regression2(83.0303,data['ConstArea'],10)\n"
      ],
      "metadata": {
        "colab": {
          "base_uri": "https://localhost:8080/"
        },
        "id": "_DF5UT9Fg9pU",
        "outputId": "9a1926ee-9f44-47ae-93eb-9fb76010d10f"
      },
      "execution_count": null,
      "outputs": [
        {
          "output_type": "stream",
          "name": "stdout",
          "text": [
            "1. Step 1\n",
            "Null Hypothesis: β = 0 (No effect on dependent variable) for all i\n",
            "Alternative Hypothesis: β ≠ 0\n",
            "2. Step 2\n",
            "Alpha = 0.05\n",
            "3. Step 3: Data Collection\n",
            "Coefficient = 83.0303\n",
            "Standard error = 0.681\n",
            "4. Step 4\n",
            "t-statistic for coefficient =: 121.92408223201173\n",
            "p-value for coefficient : 0.0\n",
            "Reject the Null Hypothesis for coefficient 83.0303\n"
          ]
        }
      ]
    },
    {
      "cell_type": "code",
      "source": [
        "\"\"\" # Coefficients from the provided regression equation\n",
        "b0 = -224707.4746\n",
        "b1 = 83.0303\n",
        "b2 = -0.3919\n",
        "b3 = 91.7465\n",
        "b4 = -201.8215\n",
        "b5 = -2295.4529\n",
        "b6 = 3056.1013\n",
        "b7 = -2579.0512\n",
        "b8 = -470.2872\n",
        "b9 = -1297.9476\n",
        "b10 = -485.4666\n",
        "\n",
        "# Extract the required features from the dataset\n",
        "ConstArea = data['ConstArea']\n",
        "LotArea = data['LotArea']\n",
        "HouseAge = data['HouseAge']\n",
        "QIndex = data['QIndex']\n",
        "GarageCars = data['GarageCars']\n",
        "Price_sqft = data['Price_sqft']\n",
        "TotalFullBath = data['TotalFullBath']\n",
        "TotRmsAbvGrd = data['TotRmsAbvGrd']\n",
        "Fireplaces = data['Fireplaces']\n",
        "TotalHalfBath = data['TotalHalfBath'] \"\"\"\n",
        "hypothesis_testing_regression2(-0.3919,data['LotArea'],10)\n"
      ],
      "metadata": {
        "colab": {
          "base_uri": "https://localhost:8080/"
        },
        "id": "k7OuqY8bzulU",
        "outputId": "eec606b5-e101-43eb-902f-10ea116a6c71"
      },
      "execution_count": null,
      "outputs": [
        {
          "output_type": "stream",
          "name": "stdout",
          "text": [
            "1. Step 1\n",
            "Null Hypothesis: β = 0 (No effect on dependent variable) for all i\n",
            "Alternative Hypothesis: β ≠ 0\n",
            "2. Step 2\n",
            "Alpha = 0.05\n",
            "3. Step 3: Data Collection\n",
            "Coefficient = -0.3919\n",
            "Standard error = 0.083\n",
            "4. Step 4\n",
            "t-statistic for coefficient =: -4.7216867469879515\n",
            "p-value for coefficient : 2.49978651267746e-06\n",
            "Reject the Null Hypothesis for coefficient -0.3919\n"
          ]
        }
      ]
    },
    {
      "cell_type": "code",
      "source": [
        "hypothesis_testing_regression2(91.7465,data['HouseAge'],10)\n"
      ],
      "metadata": {
        "colab": {
          "base_uri": "https://localhost:8080/"
        },
        "id": "lhEHKMem0AAp",
        "outputId": "1ad0f112-21bb-48d2-8733-a3681461960a"
      },
      "execution_count": null,
      "outputs": [
        {
          "output_type": "stream",
          "name": "stdout",
          "text": [
            "1. Step 1\n",
            "Null Hypothesis: β = 0 (No effect on dependent variable) for all i\n",
            "Alternative Hypothesis: β ≠ 0\n",
            "2. Step 2\n",
            "Alpha = 0.05\n",
            "3. Step 3: Data Collection\n",
            "Coefficient = 91.7465\n",
            "Standard error = 13.618\n",
            "4. Step 4\n",
            "t-statistic for coefficient =: 6.737149361139668\n",
            "p-value for coefficient : 2.099787010934051e-11\n",
            "Reject the Null Hypothesis for coefficient 91.7465\n"
          ]
        }
      ]
    },
    {
      "cell_type": "code",
      "source": [
        "hypothesis_testing_regression2(-201.8215,data['QIndex'],10)\n"
      ],
      "metadata": {
        "colab": {
          "base_uri": "https://localhost:8080/"
        },
        "id": "G8x8iZei0IzS",
        "outputId": "9f55b57d-c8bc-4838-e5c5-b0f2ebf90d74"
      },
      "execution_count": null,
      "outputs": [
        {
          "output_type": "stream",
          "name": "stdout",
          "text": [
            "1. Step 1\n",
            "Null Hypothesis: β = 0 (No effect on dependent variable) for all i\n",
            "Alternative Hypothesis: β ≠ 0\n",
            "2. Step 2\n",
            "Alpha = 0.05\n",
            "3. Step 3: Data Collection\n",
            "Coefficient = -201.8215\n",
            "Standard error = 41.266\n",
            "4. Step 4\n",
            "t-statistic for coefficient =: -4.8907454078418064\n",
            "p-value for coefficient : 1.0839630992798277e-06\n",
            "Reject the Null Hypothesis for coefficient -201.8215\n"
          ]
        }
      ]
    },
    {
      "cell_type": "code",
      "source": [
        "hypothesis_testing_regression2(-2295.4529,data['GarageCars'],10)\n"
      ],
      "metadata": {
        "colab": {
          "base_uri": "https://localhost:8080/"
        },
        "id": "UAQgrLtX0SnW",
        "outputId": "7862f1f9-26a8-400f-ae35-ca233a3225e4"
      },
      "execution_count": null,
      "outputs": [
        {
          "output_type": "stream",
          "name": "stdout",
          "text": [
            "1. Step 1\n",
            "Null Hypothesis: β = 0 (No effect on dependent variable) for all i\n",
            "Alternative Hypothesis: β ≠ 0\n",
            "2. Step 2\n",
            "Alpha = 0.05\n",
            "3. Step 3: Data Collection\n",
            "Coefficient = -2295.4529\n",
            "Standard error = 525.807\n",
            "4. Step 4\n",
            "t-statistic for coefficient =: -4.365580716879007\n",
            "p-value for coefficient : 1.331933107184824e-05\n",
            "Reject the Null Hypothesis for coefficient -2295.4529\n"
          ]
        }
      ]
    },
    {
      "cell_type": "markdown",
      "source": [
        "## Omnibus F- test for Model 4"
      ],
      "metadata": {
        "id": "g27RRcW5yRVm"
      }
    },
    {
      "cell_type": "code",
      "source": [
        "omnibus_test_regression(X1, y1, res_square1, 10)"
      ],
      "metadata": {
        "colab": {
          "base_uri": "https://localhost:8080/"
        },
        "id": "LonH270lh2Rp",
        "outputId": "23d8a18c-1b55-4810-cc57-6dbc585e7cbe"
      },
      "execution_count": null,
      "outputs": [
        {
          "output_type": "stream",
          "name": "stdout",
          "text": [
            "1. Step 1\n",
            "Null Hypothesis :       β1 = β2 = ... = βk = 0 (No effect of independent variables on dependent variable)\n",
            "Alternate Hypothesis :  At least one βi ≠ 0 (At least one independent variable has an effect)\n",
            "2. Step 2\n",
            "Alpha = 0.05\n",
            "3. Step 3: Data Collection\n",
            "Sum of Squared Residuals = 253111174601.56702\n",
            "Mean Squared Error (MSE) = 125364623.378686\n",
            "Root Mean Squared Error (RMSE) = 11196.634466601381\n",
            "4. Step 4\n",
            "The value of F-statistic = 9168.688573827829\n",
            "5. Step 5\n",
            "p-value: 1.1102230246251565e-16\n",
            "6. Step 6\n",
            "Reject the Null Hypothesis\n"
          ]
        }
      ]
    },
    {
      "cell_type": "markdown",
      "source": [
        "# **Nested Model**"
      ],
      "metadata": {
        "id": "EHBirW1biHo0"
      }
    },
    {
      "cell_type": "code",
      "source": [
        "from scipy.stats import f\n",
        "\n",
        "def Nested_Model_test(SSE1, SSE2, num_features_added, x, num_predictors):\n",
        "    n = len(x)\n",
        "\n",
        "    # Step 1: State the Null Hypothesis and Alternative Hypothesis\n",
        "    print(\"1. Step 1\")\n",
        "    print(\"Null Hypothesis: Additional parameters on Model2 do not significantly improve the model fit compared to model 1\")\n",
        "    print(\"Alternative Hypothesis: Additional parameters on Model2 significantly improve the model fit compared to model 1\")\n",
        "\n",
        "    # Step 2: Set α\n",
        "    print(\"2. Step 2\")\n",
        "    alpha = 0.05\n",
        "    print(\"Alpha =\", alpha)\n",
        "\n",
        "    # Step 3: Collect Data\n",
        "    print(\"3. Step 3: Data Collection\")\n",
        "    # sum_of_residual_sq = np.sum(res_square)\n",
        "    print(\"Sum of Squared Residuals Model 3 =\", SSE1)\n",
        "    print(\"Sum of Squared Residuals Model 4 =\", SSE2)\n",
        "\n",
        "    df_residual = n - num_predictors - 1\n",
        "    Mse = SSE2 / df_residual\n",
        "    print(\"Mean Squared Error (MSE) model 4 =\", Mse)\n",
        "\n",
        "    # Step 4: Calculate test statistics for each coefficient\n",
        "    print(\"4. Step 4\")\n",
        "\n",
        "    F = ((SSE1 - SSE2) / num_features_added) / Mse\n",
        "    print(f\"F-statistic  : {F}\")\n",
        "\n",
        "    # Degrees of freedom for the numerator and denominator\n",
        "    df_numerator = num_features_added  # Example degrees of freedom for the numerator\n",
        "    df_denominator = df_residual  # Example degrees of freedom for the denominator\n",
        "\n",
        "    # Calculate critical value of F\n",
        "    critical_value = f.ppf(1 - alpha, df_numerator, df_denominator)\n",
        "\n",
        "    print(\"Critical value of F:\", critical_value)\n",
        "\n",
        "    # Step 6: Based on steps 5 and 6, draw a conclusion about H0\n",
        "    if F > critical_value:\n",
        "        print(\"Reject the Null Hypothesis\")\n",
        "    else:\n",
        "        print(\"Fail to reject Null Hypothesis for coefficient\")\n",
        "\n",
        "# Example usage\n",
        "# Nested_Model_test(sum_res_square1, sum_res_square2, 6, data['SalePrice'], 10)\n"
      ],
      "metadata": {
        "id": "t6e-gmZtiBso"
      },
      "execution_count": null,
      "outputs": []
    },
    {
      "cell_type": "code",
      "source": [
        "Nested_Model_test(sum_res_square1, sum_res_square2, 6, data['SalePrice'], 10)"
      ],
      "metadata": {
        "colab": {
          "base_uri": "https://localhost:8080/"
        },
        "id": "nnseHDMFoj4X",
        "outputId": "00c8bf49-0448-4a94-83ad-785f781ff574"
      },
      "execution_count": null,
      "outputs": [
        {
          "output_type": "stream",
          "name": "stdout",
          "text": [
            "1. Step 1\n",
            "Null Hypothesis: Additional parameters on Model2 do not significantly improve the model fit compared to model 1\n",
            "Alternative Hypothesis: Additional parameters on Model2 significantly improve the model fit compared to model 1\n",
            "2. Step 2\n",
            "Alpha = 0.05\n",
            "3. Step 3: Data Collection\n",
            "Sum of Squared Residuals Model 3 = 1938058502786.1006\n",
            "Sum of Squared Residuals Model 4 = 253111174601.56702\n",
            "Mean Squared Error (MSE) model 4 = 125364623.378686\n",
            "4. Step 4\n",
            "F-statistic  : 2240.0622051816176\n",
            "Critical value of F: 2.103067495733931\n",
            "Reject the Null Hypothesis\n"
          ]
        }
      ]
    },
    {
      "cell_type": "code",
      "source": [
        "y = results1['Predicted']\n",
        "x= results1['Residual']\n",
        "plt.scatter(y,x)\n"
      ],
      "metadata": {
        "colab": {
          "base_uri": "https://localhost:8080/"
        },
        "id": "nmRt_sawsAmX",
        "outputId": "ec925a42-32da-4848-c01b-f7a67c5574ba"
      },
      "execution_count": null,
      "outputs": [
        {
          "output_type": "execute_result",
          "data": {
            "text/plain": [
              "<matplotlib.collections.PathCollection at 0x7e64fb71dd50>"
            ]
          },
          "metadata": {},
          "execution_count": 39
        },
        {
          "output_type": "display_data",
          "data": {
            "text/plain": [
              "<Figure size 640x480 with 1 Axes>"
            ],
            "image/png": "[encoded data removed]"
          },
          "metadata": {}
        }
      ]
    }
  ]
}